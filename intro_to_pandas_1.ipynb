{
 "cells": [
  {
   "cell_type": "markdown",
   "metadata": {
    "id": "rHLcriKWLRe4"
   },
   "source": [
    " # Intro Pandas"
   ]
  },
  {
   "cell_type": "markdown",
   "metadata": {
    "id": "QvJBqX8_Bctk"
   },
   "source": [
    "**Objectifs d'apprentissage :**\n",
    "  * Introduction aux structures de données `DataFrame` et `Series` de la bibliothèque *Pandas*\n",
    "  * Accéder aux données et les manipuler dans une structure `DataFrame` et `Series`\n",
    "  * Importer des données d'un fichier CSV dans un `DataFrame` *Pandas*\n",
    "  * Réindexer un `DataFrame` pour restructurer les données"
   ]
  },
  {
   "cell_type": "markdown",
   "metadata": {
    "id": "TIFJ83ZTBctl"
   },
   "source": [
    " [*Pandas*](http://pandas.pydata.org/) est une API d'analyse de données orientée colonnes. C'est un excellent outil pour manipuler et analyser des données d'entrée. Beaucoup de frameworks d'apprentissage automatique en IA acceptent les structures de données *Pandas* en entrée.\n",
    "\n",
    "La librairie pandas permet de manipuler de façon performantes et facile des données structurées, par exemple sous forme de tableau. elle met à notre disposition des fonctions qui permettent de trier, consolider, compléter vos données et de les exporter dans divers format (csv, latex, excel ...)\n",
    "\n",
    "Pour une description plus complète, vous pouvez consulter le [site de documentation officielle de *Pandas*](http://pandas.pydata.org/pandas-docs/stable/index.html), sur lequel vous trouverez de multiples informations ainsi que de nombreux didacticiels.\n",
    "\n",
    "\n",
    " [NumPy](http://www.numpy.org/) est un kit d'outils de calculs scientifiques populaire. Les `Series` *Pandas* peuvent faire office d'arguments pour la plupart des fonctions NumPy :"
   ]
  },
  {
   "cell_type": "markdown",
   "metadata": {
    "id": "s_JOISVgmn9v"
   },
   "source": [
    " # Concepts de base\n",
    "\n",
    "La ligne de code suivante permet d'importer l'API *pandas* et d'afficher sa version :"
   ]
  },
  {
   "cell_type": "code",
   "execution_count": 1,
   "metadata": {
    "colab": {
     "base_uri": "https://localhost:8080/"
    },
    "executionInfo": {
     "elapsed": 373,
     "status": "ok",
     "timestamp": 1655323119483,
     "user": {
      "displayName": "amira tebbessi",
      "userId": "14037191360207463775"
     },
     "user_tz": -120
    },
    "id": "aSRYu62xUi3g",
    "outputId": "f790310a-1884-4fdb-b753-0da1414ec4ae"
   },
   "outputs": [
    {
     "name": "stdout",
     "output_type": "stream",
     "text": [
      "1.3.4\n",
      "1.20.3\n"
     ]
    }
   ],
   "source": [
    "import pandas as pd\n",
    "import numpy as np\n",
    "\n",
    "print(pd.__version__)\n",
    "print(np.__version__)\n",
    "\n",
    "\n"
   ]
  },
  {
   "cell_type": "markdown",
   "metadata": {
    "id": "daQreKXIUslr"
   },
   "source": [
    "## Les Structures de données\n",
    "\n",
    "On distingue deux grandes catégories de structures de données *Pandas* :\n",
    "\n",
    "  * Le **`DataFrame`**, un tableau relationnel de données, avec des lignes et des colonnes étiquetées\n",
    "  * La **`Series`**, constituée d'une seule colonne. Un `DataFrame` contient une ou plusieurs `Series`, chacune étant étiquetée.\n",
    "\n",
    "Le DataFrame est une abstraction fréquemment utilisée pour manipuler des données. [Spark](https://spark.apache.org/) et [R](https://www.r-project.org/about.html) proposent des implémentations similaires."
   ]
  },
  {
   "cell_type": "markdown",
   "metadata": {
    "id": "fjnAk1xcU0yc"
   },
   "source": [
    " Pour créer une `Series`, vous pouvez notamment créer un objet `Series`. Par exemple :\n",
    " \n",
    " s = pd.Series(data, index=index)\n",
    " \n",
    "! data peut etre un elem, une liste ou un dictionnaire.."
   ]
  },
  {
   "cell_type": "code",
   "execution_count": 2,
   "metadata": {
    "colab": {
     "base_uri": "https://localhost:8080/"
    },
    "executionInfo": {
     "elapsed": 354,
     "status": "ok",
     "timestamp": 1655323176740,
     "user": {
      "displayName": "amira tebbessi",
      "userId": "14037191360207463775"
     },
     "user_tz": -120
    },
    "id": "DFZ42Uq7UFDj",
    "outputId": "734aed67-dc1e-45a0-de47-7251e7f94b0b"
   },
   "outputs": [
    {
     "data": {
      "text/plain": [
       "0       Paris\n",
       "1       Lille\n",
       "2    Toulouse\n",
       "dtype: object"
      ]
     },
     "execution_count": 2,
     "metadata": {},
     "output_type": "execute_result"
    }
   ],
   "source": [
    "pd.Series(['Paris', 'Lille', 'Toulouse'])"
   ]
  },
  {
   "cell_type": "code",
   "execution_count": 3,
   "metadata": {
    "id": "6rDJt1lu7A4v",
    "outputId": "efca71e2-4667-4549-ed67-596a05c58241"
   },
   "outputs": [
    {
     "data": {
      "text/plain": [
       "a       Paris\n",
       "b       Lille\n",
       "c    Toulouse\n",
       "dtype: object"
      ]
     },
     "execution_count": 3,
     "metadata": {},
     "output_type": "execute_result"
    }
   ],
   "source": [
    "pd.Series(['Paris', 'Lille', 'Toulouse'],index=[\"a\",\"b\",\"c\"])"
   ]
  },
  {
   "cell_type": "markdown",
   "metadata": {
    "id": "U5ouUp1cU6pC"
   },
   "source": [
    " Il est possible de créer des objets `DataFrame` en transmettant un `dictionnaire` qui met en correspondance les noms de colonnes (des `chaînes de caractères`) avec leurs `Series` respectives. Lorsque la longueur de la `Serie` ne correspond pas, les valeurs manquantes sont remplacées par des valeurs [NA/NaN](http://pandas.pydata.org/pandas-docs/stable/missing_data.html) spéciales. \n",
    " \n",
    "Exemple :"
   ]
  },
  {
   "cell_type": "code",
   "execution_count": 4,
   "metadata": {
    "colab": {
     "base_uri": "https://localhost:8080/",
     "height": 143
    },
    "executionInfo": {
     "elapsed": 454,
     "status": "ok",
     "timestamp": 1655323131019,
     "user": {
      "displayName": "amira tebbessi",
      "userId": "14037191360207463775"
     },
     "user_tz": -120
    },
    "id": "avgr6GfiUh8t",
    "outputId": "7e660ee0-7557-47c9-ba91-77d8ffd1e382"
   },
   "outputs": [
    {
     "data": {
      "text/html": [
       "<div>\n",
       "<style scoped>\n",
       "    .dataframe tbody tr th:only-of-type {\n",
       "        vertical-align: middle;\n",
       "    }\n",
       "\n",
       "    .dataframe tbody tr th {\n",
       "        vertical-align: top;\n",
       "    }\n",
       "\n",
       "    .dataframe thead th {\n",
       "        text-align: right;\n",
       "    }\n",
       "</style>\n",
       "<table border=\"1\" class=\"dataframe\">\n",
       "  <thead>\n",
       "    <tr style=\"text-align: right;\">\n",
       "      <th></th>\n",
       "      <th>City name</th>\n",
       "      <th>Population</th>\n",
       "    </tr>\n",
       "  </thead>\n",
       "  <tbody>\n",
       "    <tr>\n",
       "      <th>0</th>\n",
       "      <td>Paris</td>\n",
       "      <td>852469</td>\n",
       "    </tr>\n",
       "    <tr>\n",
       "      <th>1</th>\n",
       "      <td>Lille</td>\n",
       "      <td>1015785</td>\n",
       "    </tr>\n",
       "    <tr>\n",
       "      <th>2</th>\n",
       "      <td>Toulouse</td>\n",
       "      <td>485199</td>\n",
       "    </tr>\n",
       "  </tbody>\n",
       "</table>\n",
       "</div>"
      ],
      "text/plain": [
       "  City name  Population\n",
       "0     Paris      852469\n",
       "1     Lille     1015785\n",
       "2  Toulouse      485199"
      ]
     },
     "execution_count": 4,
     "metadata": {},
     "output_type": "execute_result"
    }
   ],
   "source": [
    "city_names = pd.Series(['Paris', 'Lille', 'Toulouse'])\n",
    "population = pd.Series([852469, 1015785, 485199])\n",
    "\n",
    "pd.DataFrame({ 'City name': city_names, 'Population': population })"
   ]
  },
  {
   "cell_type": "markdown",
   "metadata": {
    "id": "oa5wfZT7VHJl"
   },
   "source": [
    " Le plus souvent, vous chargez un fichier entier dans un `DataFrame`. Dans l'exemple qui suit, le fichier chargé contient des données immobilières pour la Californie. \n",
    " \n"
   ]
  },
  {
   "cell_type": "code",
   "execution_count": 5,
   "metadata": {
    "id": "av6RYOraVG1V",
    "outputId": "1c3a0ac2-8c56-408d-fa6d-521b37d19544"
   },
   "outputs": [
    {
     "data": {
      "text/html": [
       "<div>\n",
       "<style scoped>\n",
       "    .dataframe tbody tr th:only-of-type {\n",
       "        vertical-align: middle;\n",
       "    }\n",
       "\n",
       "    .dataframe tbody tr th {\n",
       "        vertical-align: top;\n",
       "    }\n",
       "\n",
       "    .dataframe thead th {\n",
       "        text-align: right;\n",
       "    }\n",
       "</style>\n",
       "<table border=\"1\" class=\"dataframe\">\n",
       "  <thead>\n",
       "    <tr style=\"text-align: right;\">\n",
       "      <th></th>\n",
       "      <th>longitude</th>\n",
       "      <th>latitude</th>\n",
       "      <th>housing_median_age</th>\n",
       "      <th>total_rooms</th>\n",
       "      <th>total_bedrooms</th>\n",
       "      <th>population</th>\n",
       "      <th>households</th>\n",
       "      <th>median_income</th>\n",
       "      <th>median_house_value</th>\n",
       "    </tr>\n",
       "  </thead>\n",
       "  <tbody>\n",
       "    <tr>\n",
       "      <th>count</th>\n",
       "      <td>17000.000000</td>\n",
       "      <td>17000.000000</td>\n",
       "      <td>17000.000000</td>\n",
       "      <td>17000.000000</td>\n",
       "      <td>17000.000000</td>\n",
       "      <td>17000.000000</td>\n",
       "      <td>17000.000000</td>\n",
       "      <td>17000.000000</td>\n",
       "      <td>17000.000000</td>\n",
       "    </tr>\n",
       "    <tr>\n",
       "      <th>mean</th>\n",
       "      <td>-119.562108</td>\n",
       "      <td>35.625225</td>\n",
       "      <td>28.589353</td>\n",
       "      <td>2643.664412</td>\n",
       "      <td>539.410824</td>\n",
       "      <td>1429.573941</td>\n",
       "      <td>501.221941</td>\n",
       "      <td>3.883578</td>\n",
       "      <td>207300.912353</td>\n",
       "    </tr>\n",
       "    <tr>\n",
       "      <th>std</th>\n",
       "      <td>2.005166</td>\n",
       "      <td>2.137340</td>\n",
       "      <td>12.586937</td>\n",
       "      <td>2179.947071</td>\n",
       "      <td>421.499452</td>\n",
       "      <td>1147.852959</td>\n",
       "      <td>384.520841</td>\n",
       "      <td>1.908157</td>\n",
       "      <td>115983.764387</td>\n",
       "    </tr>\n",
       "    <tr>\n",
       "      <th>min</th>\n",
       "      <td>-124.350000</td>\n",
       "      <td>32.540000</td>\n",
       "      <td>1.000000</td>\n",
       "      <td>2.000000</td>\n",
       "      <td>1.000000</td>\n",
       "      <td>3.000000</td>\n",
       "      <td>1.000000</td>\n",
       "      <td>0.499900</td>\n",
       "      <td>14999.000000</td>\n",
       "    </tr>\n",
       "    <tr>\n",
       "      <th>25%</th>\n",
       "      <td>-121.790000</td>\n",
       "      <td>33.930000</td>\n",
       "      <td>18.000000</td>\n",
       "      <td>1462.000000</td>\n",
       "      <td>297.000000</td>\n",
       "      <td>790.000000</td>\n",
       "      <td>282.000000</td>\n",
       "      <td>2.566375</td>\n",
       "      <td>119400.000000</td>\n",
       "    </tr>\n",
       "    <tr>\n",
       "      <th>50%</th>\n",
       "      <td>-118.490000</td>\n",
       "      <td>34.250000</td>\n",
       "      <td>29.000000</td>\n",
       "      <td>2127.000000</td>\n",
       "      <td>434.000000</td>\n",
       "      <td>1167.000000</td>\n",
       "      <td>409.000000</td>\n",
       "      <td>3.544600</td>\n",
       "      <td>180400.000000</td>\n",
       "    </tr>\n",
       "    <tr>\n",
       "      <th>75%</th>\n",
       "      <td>-118.000000</td>\n",
       "      <td>37.720000</td>\n",
       "      <td>37.000000</td>\n",
       "      <td>3151.250000</td>\n",
       "      <td>648.250000</td>\n",
       "      <td>1721.000000</td>\n",
       "      <td>605.250000</td>\n",
       "      <td>4.767000</td>\n",
       "      <td>265000.000000</td>\n",
       "    </tr>\n",
       "    <tr>\n",
       "      <th>max</th>\n",
       "      <td>-114.310000</td>\n",
       "      <td>41.950000</td>\n",
       "      <td>52.000000</td>\n",
       "      <td>37937.000000</td>\n",
       "      <td>6445.000000</td>\n",
       "      <td>35682.000000</td>\n",
       "      <td>6082.000000</td>\n",
       "      <td>15.000100</td>\n",
       "      <td>500001.000000</td>\n",
       "    </tr>\n",
       "  </tbody>\n",
       "</table>\n",
       "</div>"
      ],
      "text/plain": [
       "          longitude      latitude  housing_median_age   total_rooms  \\\n",
       "count  17000.000000  17000.000000        17000.000000  17000.000000   \n",
       "mean    -119.562108     35.625225           28.589353   2643.664412   \n",
       "std        2.005166      2.137340           12.586937   2179.947071   \n",
       "min     -124.350000     32.540000            1.000000      2.000000   \n",
       "25%     -121.790000     33.930000           18.000000   1462.000000   \n",
       "50%     -118.490000     34.250000           29.000000   2127.000000   \n",
       "75%     -118.000000     37.720000           37.000000   3151.250000   \n",
       "max     -114.310000     41.950000           52.000000  37937.000000   \n",
       "\n",
       "       total_bedrooms    population    households  median_income  \\\n",
       "count    17000.000000  17000.000000  17000.000000   17000.000000   \n",
       "mean       539.410824   1429.573941    501.221941       3.883578   \n",
       "std        421.499452   1147.852959    384.520841       1.908157   \n",
       "min          1.000000      3.000000      1.000000       0.499900   \n",
       "25%        297.000000    790.000000    282.000000       2.566375   \n",
       "50%        434.000000   1167.000000    409.000000       3.544600   \n",
       "75%        648.250000   1721.000000    605.250000       4.767000   \n",
       "max       6445.000000  35682.000000   6082.000000      15.000100   \n",
       "\n",
       "       median_house_value  \n",
       "count        17000.000000  \n",
       "mean        207300.912353  \n",
       "std         115983.764387  \n",
       "min          14999.000000  \n",
       "25%         119400.000000  \n",
       "50%         180400.000000  \n",
       "75%         265000.000000  \n",
       "max         500001.000000  "
      ]
     },
     "execution_count": 5,
     "metadata": {},
     "output_type": "execute_result"
    }
   ],
   "source": [
    "california_housing_dataframe = pd.read_csv(\"https://download.mlcc.google.com/mledu-datasets/california_housing_train.csv\", sep=\",\")\n",
    "california_housing_dataframe.describe()"
   ]
  },
  {
   "cell_type": "markdown",
   "metadata": {
    "id": "WrkBjfz5kEQu"
   },
   "source": [
    " Dans l'exemple ci-dessus, la méthode `DataFrame.describe` permet d'afficher des statistiques intéressantes concernant un `DataFrame`. La fonction `DataFrame.head` est également utile pour afficher les premiers enregistrements d'un `DataFrame` :"
   ]
  },
  {
   "cell_type": "code",
   "execution_count": 6,
   "metadata": {
    "id": "s3ND3bgOkB5k",
    "outputId": "0863ecf5-de29-4866-c178-7b5eed7e9176"
   },
   "outputs": [
    {
     "data": {
      "text/html": [
       "<div>\n",
       "<style scoped>\n",
       "    .dataframe tbody tr th:only-of-type {\n",
       "        vertical-align: middle;\n",
       "    }\n",
       "\n",
       "    .dataframe tbody tr th {\n",
       "        vertical-align: top;\n",
       "    }\n",
       "\n",
       "    .dataframe thead th {\n",
       "        text-align: right;\n",
       "    }\n",
       "</style>\n",
       "<table border=\"1\" class=\"dataframe\">\n",
       "  <thead>\n",
       "    <tr style=\"text-align: right;\">\n",
       "      <th></th>\n",
       "      <th>longitude</th>\n",
       "      <th>latitude</th>\n",
       "      <th>housing_median_age</th>\n",
       "      <th>total_rooms</th>\n",
       "      <th>total_bedrooms</th>\n",
       "      <th>population</th>\n",
       "      <th>households</th>\n",
       "      <th>median_income</th>\n",
       "      <th>median_house_value</th>\n",
       "    </tr>\n",
       "  </thead>\n",
       "  <tbody>\n",
       "    <tr>\n",
       "      <th>0</th>\n",
       "      <td>-114.31</td>\n",
       "      <td>34.19</td>\n",
       "      <td>15.0</td>\n",
       "      <td>5612.0</td>\n",
       "      <td>1283.0</td>\n",
       "      <td>1015.0</td>\n",
       "      <td>472.0</td>\n",
       "      <td>1.4936</td>\n",
       "      <td>66900.0</td>\n",
       "    </tr>\n",
       "    <tr>\n",
       "      <th>1</th>\n",
       "      <td>-114.47</td>\n",
       "      <td>34.40</td>\n",
       "      <td>19.0</td>\n",
       "      <td>7650.0</td>\n",
       "      <td>1901.0</td>\n",
       "      <td>1129.0</td>\n",
       "      <td>463.0</td>\n",
       "      <td>1.8200</td>\n",
       "      <td>80100.0</td>\n",
       "    </tr>\n",
       "    <tr>\n",
       "      <th>2</th>\n",
       "      <td>-114.56</td>\n",
       "      <td>33.69</td>\n",
       "      <td>17.0</td>\n",
       "      <td>720.0</td>\n",
       "      <td>174.0</td>\n",
       "      <td>333.0</td>\n",
       "      <td>117.0</td>\n",
       "      <td>1.6509</td>\n",
       "      <td>85700.0</td>\n",
       "    </tr>\n",
       "    <tr>\n",
       "      <th>3</th>\n",
       "      <td>-114.57</td>\n",
       "      <td>33.64</td>\n",
       "      <td>14.0</td>\n",
       "      <td>1501.0</td>\n",
       "      <td>337.0</td>\n",
       "      <td>515.0</td>\n",
       "      <td>226.0</td>\n",
       "      <td>3.1917</td>\n",
       "      <td>73400.0</td>\n",
       "    </tr>\n",
       "    <tr>\n",
       "      <th>4</th>\n",
       "      <td>-114.57</td>\n",
       "      <td>33.57</td>\n",
       "      <td>20.0</td>\n",
       "      <td>1454.0</td>\n",
       "      <td>326.0</td>\n",
       "      <td>624.0</td>\n",
       "      <td>262.0</td>\n",
       "      <td>1.9250</td>\n",
       "      <td>65500.0</td>\n",
       "    </tr>\n",
       "  </tbody>\n",
       "</table>\n",
       "</div>"
      ],
      "text/plain": [
       "   longitude  latitude  housing_median_age  total_rooms  total_bedrooms  \\\n",
       "0    -114.31     34.19                15.0       5612.0          1283.0   \n",
       "1    -114.47     34.40                19.0       7650.0          1901.0   \n",
       "2    -114.56     33.69                17.0        720.0           174.0   \n",
       "3    -114.57     33.64                14.0       1501.0           337.0   \n",
       "4    -114.57     33.57                20.0       1454.0           326.0   \n",
       "\n",
       "   population  households  median_income  median_house_value  \n",
       "0      1015.0       472.0         1.4936             66900.0  \n",
       "1      1129.0       463.0         1.8200             80100.0  \n",
       "2       333.0       117.0         1.6509             85700.0  \n",
       "3       515.0       226.0         3.1917             73400.0  \n",
       "4       624.0       262.0         1.9250             65500.0  "
      ]
     },
     "execution_count": 6,
     "metadata": {},
     "output_type": "execute_result"
    }
   ],
   "source": [
    "california_housing_dataframe.head()"
   ]
  },
  {
   "cell_type": "code",
   "execution_count": 7,
   "metadata": {
    "id": "SkVBdzid7A4z",
    "outputId": "bf06db7e-5ba8-4ab2-b2ae-567ba5098107"
   },
   "outputs": [
    {
     "name": "stdout",
     "output_type": "stream",
     "text": [
      "<class 'pandas.core.frame.DataFrame'>\n",
      "RangeIndex: 17000 entries, 0 to 16999\n",
      "Data columns (total 9 columns):\n",
      " #   Column              Non-Null Count  Dtype  \n",
      "---  ------              --------------  -----  \n",
      " 0   longitude           17000 non-null  float64\n",
      " 1   latitude            17000 non-null  float64\n",
      " 2   housing_median_age  17000 non-null  float64\n",
      " 3   total_rooms         17000 non-null  float64\n",
      " 4   total_bedrooms      17000 non-null  float64\n",
      " 5   population          17000 non-null  float64\n",
      " 6   households          17000 non-null  float64\n",
      " 7   median_income       17000 non-null  float64\n",
      " 8   median_house_value  17000 non-null  float64\n",
      "dtypes: float64(9)\n",
      "memory usage: 1.2 MB\n"
     ]
    }
   ],
   "source": [
    "california_housing_dataframe.info()"
   ]
  },
  {
   "cell_type": "code",
   "execution_count": 8,
   "metadata": {
    "id": "wBeFpRSk7A40",
    "outputId": "ea43f89d-99e3-41f9-d420-1a757e898b03"
   },
   "outputs": [
    {
     "data": {
      "text/plain": [
       "RangeIndex(start=0, stop=17000, step=1)"
      ]
     },
     "execution_count": 8,
     "metadata": {},
     "output_type": "execute_result"
    }
   ],
   "source": [
    "california_housing_dataframe.index"
   ]
  },
  {
   "cell_type": "code",
   "execution_count": 9,
   "metadata": {
    "id": "jGhJDT1O7A40",
    "outputId": "38f383d0-6576-46f2-afb6-448e8f890654"
   },
   "outputs": [
    {
     "data": {
      "text/plain": [
       "Index(['longitude', 'latitude', 'housing_median_age', 'total_rooms',\n",
       "       'total_bedrooms', 'population', 'households', 'median_income',\n",
       "       'median_house_value'],\n",
       "      dtype='object')"
      ]
     },
     "execution_count": 9,
     "metadata": {},
     "output_type": "execute_result"
    }
   ],
   "source": [
    "california_housing_dataframe.columns"
   ]
  },
  {
   "cell_type": "code",
   "execution_count": 10,
   "metadata": {
    "id": "MUvtnR3v7A41",
    "outputId": "554c5c81-002b-449d-d0ee-06496435a60d"
   },
   "outputs": [
    {
     "data": {
      "text/html": [
       "<div>\n",
       "<style scoped>\n",
       "    .dataframe tbody tr th:only-of-type {\n",
       "        vertical-align: middle;\n",
       "    }\n",
       "\n",
       "    .dataframe tbody tr th {\n",
       "        vertical-align: top;\n",
       "    }\n",
       "\n",
       "    .dataframe thead th {\n",
       "        text-align: right;\n",
       "    }\n",
       "</style>\n",
       "<table border=\"1\" class=\"dataframe\">\n",
       "  <thead>\n",
       "    <tr style=\"text-align: right;\">\n",
       "      <th></th>\n",
       "      <th>0</th>\n",
       "      <th>1</th>\n",
       "      <th>2</th>\n",
       "      <th>3</th>\n",
       "      <th>4</th>\n",
       "      <th>5</th>\n",
       "      <th>6</th>\n",
       "      <th>7</th>\n",
       "      <th>8</th>\n",
       "      <th>9</th>\n",
       "      <th>...</th>\n",
       "      <th>16990</th>\n",
       "      <th>16991</th>\n",
       "      <th>16992</th>\n",
       "      <th>16993</th>\n",
       "      <th>16994</th>\n",
       "      <th>16995</th>\n",
       "      <th>16996</th>\n",
       "      <th>16997</th>\n",
       "      <th>16998</th>\n",
       "      <th>16999</th>\n",
       "    </tr>\n",
       "  </thead>\n",
       "  <tbody>\n",
       "    <tr>\n",
       "      <th>longitude</th>\n",
       "      <td>-114.3100</td>\n",
       "      <td>-114.47</td>\n",
       "      <td>-114.5600</td>\n",
       "      <td>-114.5700</td>\n",
       "      <td>-114.570</td>\n",
       "      <td>-114.5800</td>\n",
       "      <td>-114.5800</td>\n",
       "      <td>-114.5900</td>\n",
       "      <td>-114.5900</td>\n",
       "      <td>-114.6000</td>\n",
       "      <td>...</td>\n",
       "      <td>-124.2200</td>\n",
       "      <td>-124.2300</td>\n",
       "      <td>-124.2300</td>\n",
       "      <td>-124.2300</td>\n",
       "      <td>-124.2500</td>\n",
       "      <td>-124.2600</td>\n",
       "      <td>-124.2700</td>\n",
       "      <td>-124.3000</td>\n",
       "      <td>-124.3000</td>\n",
       "      <td>-124.3500</td>\n",
       "    </tr>\n",
       "    <tr>\n",
       "      <th>latitude</th>\n",
       "      <td>34.1900</td>\n",
       "      <td>34.40</td>\n",
       "      <td>33.6900</td>\n",
       "      <td>33.6400</td>\n",
       "      <td>33.570</td>\n",
       "      <td>33.6300</td>\n",
       "      <td>33.6100</td>\n",
       "      <td>34.8300</td>\n",
       "      <td>33.6100</td>\n",
       "      <td>34.8300</td>\n",
       "      <td>...</td>\n",
       "      <td>41.7300</td>\n",
       "      <td>41.7500</td>\n",
       "      <td>40.8100</td>\n",
       "      <td>40.5400</td>\n",
       "      <td>40.2800</td>\n",
       "      <td>40.5800</td>\n",
       "      <td>40.6900</td>\n",
       "      <td>41.8400</td>\n",
       "      <td>41.8000</td>\n",
       "      <td>40.5400</td>\n",
       "    </tr>\n",
       "    <tr>\n",
       "      <th>housing_median_age</th>\n",
       "      <td>15.0000</td>\n",
       "      <td>19.00</td>\n",
       "      <td>17.0000</td>\n",
       "      <td>14.0000</td>\n",
       "      <td>20.000</td>\n",
       "      <td>29.0000</td>\n",
       "      <td>25.0000</td>\n",
       "      <td>41.0000</td>\n",
       "      <td>34.0000</td>\n",
       "      <td>46.0000</td>\n",
       "      <td>...</td>\n",
       "      <td>28.0000</td>\n",
       "      <td>11.0000</td>\n",
       "      <td>52.0000</td>\n",
       "      <td>52.0000</td>\n",
       "      <td>32.0000</td>\n",
       "      <td>52.0000</td>\n",
       "      <td>36.0000</td>\n",
       "      <td>17.0000</td>\n",
       "      <td>19.0000</td>\n",
       "      <td>52.0000</td>\n",
       "    </tr>\n",
       "    <tr>\n",
       "      <th>total_rooms</th>\n",
       "      <td>5612.0000</td>\n",
       "      <td>7650.00</td>\n",
       "      <td>720.0000</td>\n",
       "      <td>1501.0000</td>\n",
       "      <td>1454.000</td>\n",
       "      <td>1387.0000</td>\n",
       "      <td>2907.0000</td>\n",
       "      <td>812.0000</td>\n",
       "      <td>4789.0000</td>\n",
       "      <td>1497.0000</td>\n",
       "      <td>...</td>\n",
       "      <td>3003.0000</td>\n",
       "      <td>3159.0000</td>\n",
       "      <td>1112.0000</td>\n",
       "      <td>2694.0000</td>\n",
       "      <td>1430.0000</td>\n",
       "      <td>2217.0000</td>\n",
       "      <td>2349.0000</td>\n",
       "      <td>2677.0000</td>\n",
       "      <td>2672.0000</td>\n",
       "      <td>1820.0000</td>\n",
       "    </tr>\n",
       "    <tr>\n",
       "      <th>total_bedrooms</th>\n",
       "      <td>1283.0000</td>\n",
       "      <td>1901.00</td>\n",
       "      <td>174.0000</td>\n",
       "      <td>337.0000</td>\n",
       "      <td>326.000</td>\n",
       "      <td>236.0000</td>\n",
       "      <td>680.0000</td>\n",
       "      <td>168.0000</td>\n",
       "      <td>1175.0000</td>\n",
       "      <td>309.0000</td>\n",
       "      <td>...</td>\n",
       "      <td>699.0000</td>\n",
       "      <td>616.0000</td>\n",
       "      <td>209.0000</td>\n",
       "      <td>453.0000</td>\n",
       "      <td>419.0000</td>\n",
       "      <td>394.0000</td>\n",
       "      <td>528.0000</td>\n",
       "      <td>531.0000</td>\n",
       "      <td>552.0000</td>\n",
       "      <td>300.0000</td>\n",
       "    </tr>\n",
       "    <tr>\n",
       "      <th>population</th>\n",
       "      <td>1015.0000</td>\n",
       "      <td>1129.00</td>\n",
       "      <td>333.0000</td>\n",
       "      <td>515.0000</td>\n",
       "      <td>624.000</td>\n",
       "      <td>671.0000</td>\n",
       "      <td>1841.0000</td>\n",
       "      <td>375.0000</td>\n",
       "      <td>3134.0000</td>\n",
       "      <td>787.0000</td>\n",
       "      <td>...</td>\n",
       "      <td>1530.0000</td>\n",
       "      <td>1343.0000</td>\n",
       "      <td>544.0000</td>\n",
       "      <td>1152.0000</td>\n",
       "      <td>434.0000</td>\n",
       "      <td>907.0000</td>\n",
       "      <td>1194.0000</td>\n",
       "      <td>1244.0000</td>\n",
       "      <td>1298.0000</td>\n",
       "      <td>806.0000</td>\n",
       "    </tr>\n",
       "    <tr>\n",
       "      <th>households</th>\n",
       "      <td>472.0000</td>\n",
       "      <td>463.00</td>\n",
       "      <td>117.0000</td>\n",
       "      <td>226.0000</td>\n",
       "      <td>262.000</td>\n",
       "      <td>239.0000</td>\n",
       "      <td>633.0000</td>\n",
       "      <td>158.0000</td>\n",
       "      <td>1056.0000</td>\n",
       "      <td>271.0000</td>\n",
       "      <td>...</td>\n",
       "      <td>653.0000</td>\n",
       "      <td>479.0000</td>\n",
       "      <td>172.0000</td>\n",
       "      <td>435.0000</td>\n",
       "      <td>187.0000</td>\n",
       "      <td>369.0000</td>\n",
       "      <td>465.0000</td>\n",
       "      <td>456.0000</td>\n",
       "      <td>478.0000</td>\n",
       "      <td>270.0000</td>\n",
       "    </tr>\n",
       "    <tr>\n",
       "      <th>median_income</th>\n",
       "      <td>1.4936</td>\n",
       "      <td>1.82</td>\n",
       "      <td>1.6509</td>\n",
       "      <td>3.1917</td>\n",
       "      <td>1.925</td>\n",
       "      <td>3.3438</td>\n",
       "      <td>2.6768</td>\n",
       "      <td>1.7083</td>\n",
       "      <td>2.1782</td>\n",
       "      <td>2.1908</td>\n",
       "      <td>...</td>\n",
       "      <td>1.7038</td>\n",
       "      <td>2.4805</td>\n",
       "      <td>3.3462</td>\n",
       "      <td>3.0806</td>\n",
       "      <td>1.9417</td>\n",
       "      <td>2.3571</td>\n",
       "      <td>2.5179</td>\n",
       "      <td>3.0313</td>\n",
       "      <td>1.9797</td>\n",
       "      <td>3.0147</td>\n",
       "    </tr>\n",
       "    <tr>\n",
       "      <th>median_house_value</th>\n",
       "      <td>66900.0000</td>\n",
       "      <td>80100.00</td>\n",
       "      <td>85700.0000</td>\n",
       "      <td>73400.0000</td>\n",
       "      <td>65500.000</td>\n",
       "      <td>74000.0000</td>\n",
       "      <td>82400.0000</td>\n",
       "      <td>48500.0000</td>\n",
       "      <td>58400.0000</td>\n",
       "      <td>48100.0000</td>\n",
       "      <td>...</td>\n",
       "      <td>78300.0000</td>\n",
       "      <td>73200.0000</td>\n",
       "      <td>50800.0000</td>\n",
       "      <td>106700.0000</td>\n",
       "      <td>76100.0000</td>\n",
       "      <td>111400.0000</td>\n",
       "      <td>79000.0000</td>\n",
       "      <td>103600.0000</td>\n",
       "      <td>85800.0000</td>\n",
       "      <td>94600.0000</td>\n",
       "    </tr>\n",
       "  </tbody>\n",
       "</table>\n",
       "<p>9 rows × 17000 columns</p>\n",
       "</div>"
      ],
      "text/plain": [
       "                         0         1           2           3          4      \\\n",
       "longitude            -114.3100   -114.47   -114.5600   -114.5700   -114.570   \n",
       "latitude               34.1900     34.40     33.6900     33.6400     33.570   \n",
       "housing_median_age     15.0000     19.00     17.0000     14.0000     20.000   \n",
       "total_rooms          5612.0000   7650.00    720.0000   1501.0000   1454.000   \n",
       "total_bedrooms       1283.0000   1901.00    174.0000    337.0000    326.000   \n",
       "population           1015.0000   1129.00    333.0000    515.0000    624.000   \n",
       "households            472.0000    463.00    117.0000    226.0000    262.000   \n",
       "median_income           1.4936      1.82      1.6509      3.1917      1.925   \n",
       "median_house_value  66900.0000  80100.00  85700.0000  73400.0000  65500.000   \n",
       "\n",
       "                         5           6           7           8      \\\n",
       "longitude            -114.5800   -114.5800   -114.5900   -114.5900   \n",
       "latitude               33.6300     33.6100     34.8300     33.6100   \n",
       "housing_median_age     29.0000     25.0000     41.0000     34.0000   \n",
       "total_rooms          1387.0000   2907.0000    812.0000   4789.0000   \n",
       "total_bedrooms        236.0000    680.0000    168.0000   1175.0000   \n",
       "population            671.0000   1841.0000    375.0000   3134.0000   \n",
       "households            239.0000    633.0000    158.0000   1056.0000   \n",
       "median_income           3.3438      2.6768      1.7083      2.1782   \n",
       "median_house_value  74000.0000  82400.0000  48500.0000  58400.0000   \n",
       "\n",
       "                         9      ...       16990       16991       16992  \\\n",
       "longitude            -114.6000  ...   -124.2200   -124.2300   -124.2300   \n",
       "latitude               34.8300  ...     41.7300     41.7500     40.8100   \n",
       "housing_median_age     46.0000  ...     28.0000     11.0000     52.0000   \n",
       "total_rooms          1497.0000  ...   3003.0000   3159.0000   1112.0000   \n",
       "total_bedrooms        309.0000  ...    699.0000    616.0000    209.0000   \n",
       "population            787.0000  ...   1530.0000   1343.0000    544.0000   \n",
       "households            271.0000  ...    653.0000    479.0000    172.0000   \n",
       "median_income           2.1908  ...      1.7038      2.4805      3.3462   \n",
       "median_house_value  48100.0000  ...  78300.0000  73200.0000  50800.0000   \n",
       "\n",
       "                          16993       16994        16995       16996  \\\n",
       "longitude             -124.2300   -124.2500    -124.2600   -124.2700   \n",
       "latitude                40.5400     40.2800      40.5800     40.6900   \n",
       "housing_median_age      52.0000     32.0000      52.0000     36.0000   \n",
       "total_rooms           2694.0000   1430.0000    2217.0000   2349.0000   \n",
       "total_bedrooms         453.0000    419.0000     394.0000    528.0000   \n",
       "population            1152.0000    434.0000     907.0000   1194.0000   \n",
       "households             435.0000    187.0000     369.0000    465.0000   \n",
       "median_income            3.0806      1.9417       2.3571      2.5179   \n",
       "median_house_value  106700.0000  76100.0000  111400.0000  79000.0000   \n",
       "\n",
       "                          16997       16998       16999  \n",
       "longitude             -124.3000   -124.3000   -124.3500  \n",
       "latitude                41.8400     41.8000     40.5400  \n",
       "housing_median_age      17.0000     19.0000     52.0000  \n",
       "total_rooms           2677.0000   2672.0000   1820.0000  \n",
       "total_bedrooms         531.0000    552.0000    300.0000  \n",
       "population            1244.0000   1298.0000    806.0000  \n",
       "households             456.0000    478.0000    270.0000  \n",
       "median_income            3.0313      1.9797      3.0147  \n",
       "median_house_value  103600.0000  85800.0000  94600.0000  \n",
       "\n",
       "[9 rows x 17000 columns]"
      ]
     },
     "execution_count": 10,
     "metadata": {},
     "output_type": "execute_result"
    }
   ],
   "source": [
    "# Transposing data\n",
    "california_housing_dataframe.T"
   ]
  },
  {
   "cell_type": "code",
   "execution_count": 11,
   "metadata": {
    "id": "piLT_y0W7A41",
    "outputId": "794369a3-d400-4c17-b6c5-0c9922f91df5"
   },
   "outputs": [
    {
     "data": {
      "text/html": [
       "<div>\n",
       "<style scoped>\n",
       "    .dataframe tbody tr th:only-of-type {\n",
       "        vertical-align: middle;\n",
       "    }\n",
       "\n",
       "    .dataframe tbody tr th {\n",
       "        vertical-align: top;\n",
       "    }\n",
       "\n",
       "    .dataframe thead th {\n",
       "        text-align: right;\n",
       "    }\n",
       "</style>\n",
       "<table border=\"1\" class=\"dataframe\">\n",
       "  <thead>\n",
       "    <tr style=\"text-align: right;\">\n",
       "      <th></th>\n",
       "      <th>total_rooms</th>\n",
       "      <th>total_bedrooms</th>\n",
       "      <th>population</th>\n",
       "      <th>median_income</th>\n",
       "      <th>median_house_value</th>\n",
       "      <th>longitude</th>\n",
       "      <th>latitude</th>\n",
       "      <th>housing_median_age</th>\n",
       "      <th>households</th>\n",
       "    </tr>\n",
       "  </thead>\n",
       "  <tbody>\n",
       "    <tr>\n",
       "      <th>0</th>\n",
       "      <td>5612.0</td>\n",
       "      <td>1283.0</td>\n",
       "      <td>1015.0</td>\n",
       "      <td>1.4936</td>\n",
       "      <td>66900.0</td>\n",
       "      <td>-114.31</td>\n",
       "      <td>34.19</td>\n",
       "      <td>15.0</td>\n",
       "      <td>472.0</td>\n",
       "    </tr>\n",
       "    <tr>\n",
       "      <th>1</th>\n",
       "      <td>7650.0</td>\n",
       "      <td>1901.0</td>\n",
       "      <td>1129.0</td>\n",
       "      <td>1.8200</td>\n",
       "      <td>80100.0</td>\n",
       "      <td>-114.47</td>\n",
       "      <td>34.40</td>\n",
       "      <td>19.0</td>\n",
       "      <td>463.0</td>\n",
       "    </tr>\n",
       "    <tr>\n",
       "      <th>2</th>\n",
       "      <td>720.0</td>\n",
       "      <td>174.0</td>\n",
       "      <td>333.0</td>\n",
       "      <td>1.6509</td>\n",
       "      <td>85700.0</td>\n",
       "      <td>-114.56</td>\n",
       "      <td>33.69</td>\n",
       "      <td>17.0</td>\n",
       "      <td>117.0</td>\n",
       "    </tr>\n",
       "    <tr>\n",
       "      <th>3</th>\n",
       "      <td>1501.0</td>\n",
       "      <td>337.0</td>\n",
       "      <td>515.0</td>\n",
       "      <td>3.1917</td>\n",
       "      <td>73400.0</td>\n",
       "      <td>-114.57</td>\n",
       "      <td>33.64</td>\n",
       "      <td>14.0</td>\n",
       "      <td>226.0</td>\n",
       "    </tr>\n",
       "    <tr>\n",
       "      <th>4</th>\n",
       "      <td>1454.0</td>\n",
       "      <td>326.0</td>\n",
       "      <td>624.0</td>\n",
       "      <td>1.9250</td>\n",
       "      <td>65500.0</td>\n",
       "      <td>-114.57</td>\n",
       "      <td>33.57</td>\n",
       "      <td>20.0</td>\n",
       "      <td>262.0</td>\n",
       "    </tr>\n",
       "    <tr>\n",
       "      <th>...</th>\n",
       "      <td>...</td>\n",
       "      <td>...</td>\n",
       "      <td>...</td>\n",
       "      <td>...</td>\n",
       "      <td>...</td>\n",
       "      <td>...</td>\n",
       "      <td>...</td>\n",
       "      <td>...</td>\n",
       "      <td>...</td>\n",
       "    </tr>\n",
       "    <tr>\n",
       "      <th>16995</th>\n",
       "      <td>2217.0</td>\n",
       "      <td>394.0</td>\n",
       "      <td>907.0</td>\n",
       "      <td>2.3571</td>\n",
       "      <td>111400.0</td>\n",
       "      <td>-124.26</td>\n",
       "      <td>40.58</td>\n",
       "      <td>52.0</td>\n",
       "      <td>369.0</td>\n",
       "    </tr>\n",
       "    <tr>\n",
       "      <th>16996</th>\n",
       "      <td>2349.0</td>\n",
       "      <td>528.0</td>\n",
       "      <td>1194.0</td>\n",
       "      <td>2.5179</td>\n",
       "      <td>79000.0</td>\n",
       "      <td>-124.27</td>\n",
       "      <td>40.69</td>\n",
       "      <td>36.0</td>\n",
       "      <td>465.0</td>\n",
       "    </tr>\n",
       "    <tr>\n",
       "      <th>16997</th>\n",
       "      <td>2677.0</td>\n",
       "      <td>531.0</td>\n",
       "      <td>1244.0</td>\n",
       "      <td>3.0313</td>\n",
       "      <td>103600.0</td>\n",
       "      <td>-124.30</td>\n",
       "      <td>41.84</td>\n",
       "      <td>17.0</td>\n",
       "      <td>456.0</td>\n",
       "    </tr>\n",
       "    <tr>\n",
       "      <th>16998</th>\n",
       "      <td>2672.0</td>\n",
       "      <td>552.0</td>\n",
       "      <td>1298.0</td>\n",
       "      <td>1.9797</td>\n",
       "      <td>85800.0</td>\n",
       "      <td>-124.30</td>\n",
       "      <td>41.80</td>\n",
       "      <td>19.0</td>\n",
       "      <td>478.0</td>\n",
       "    </tr>\n",
       "    <tr>\n",
       "      <th>16999</th>\n",
       "      <td>1820.0</td>\n",
       "      <td>300.0</td>\n",
       "      <td>806.0</td>\n",
       "      <td>3.0147</td>\n",
       "      <td>94600.0</td>\n",
       "      <td>-124.35</td>\n",
       "      <td>40.54</td>\n",
       "      <td>52.0</td>\n",
       "      <td>270.0</td>\n",
       "    </tr>\n",
       "  </tbody>\n",
       "</table>\n",
       "<p>17000 rows × 9 columns</p>\n",
       "</div>"
      ],
      "text/plain": [
       "       total_rooms  total_bedrooms  population  median_income  \\\n",
       "0           5612.0          1283.0      1015.0         1.4936   \n",
       "1           7650.0          1901.0      1129.0         1.8200   \n",
       "2            720.0           174.0       333.0         1.6509   \n",
       "3           1501.0           337.0       515.0         3.1917   \n",
       "4           1454.0           326.0       624.0         1.9250   \n",
       "...            ...             ...         ...            ...   \n",
       "16995       2217.0           394.0       907.0         2.3571   \n",
       "16996       2349.0           528.0      1194.0         2.5179   \n",
       "16997       2677.0           531.0      1244.0         3.0313   \n",
       "16998       2672.0           552.0      1298.0         1.9797   \n",
       "16999       1820.0           300.0       806.0         3.0147   \n",
       "\n",
       "       median_house_value  longitude  latitude  housing_median_age  households  \n",
       "0                 66900.0    -114.31     34.19                15.0       472.0  \n",
       "1                 80100.0    -114.47     34.40                19.0       463.0  \n",
       "2                 85700.0    -114.56     33.69                17.0       117.0  \n",
       "3                 73400.0    -114.57     33.64                14.0       226.0  \n",
       "4                 65500.0    -114.57     33.57                20.0       262.0  \n",
       "...                   ...        ...       ...                 ...         ...  \n",
       "16995            111400.0    -124.26     40.58                52.0       369.0  \n",
       "16996             79000.0    -124.27     40.69                36.0       465.0  \n",
       "16997            103600.0    -124.30     41.84                17.0       456.0  \n",
       "16998             85800.0    -124.30     41.80                19.0       478.0  \n",
       "16999             94600.0    -124.35     40.54                52.0       270.0  \n",
       "\n",
       "[17000 rows x 9 columns]"
      ]
     },
     "execution_count": 11,
     "metadata": {},
     "output_type": "execute_result"
    }
   ],
   "source": [
    "california_housing_dataframe.sort_index(axis=1, ascending=False)"
   ]
  },
  {
   "cell_type": "code",
   "execution_count": 12,
   "metadata": {
    "id": "h_XDuDWW7A42",
    "outputId": "6d3900c3-ffb3-440c-9af9-035b21960f6d",
    "scrolled": true
   },
   "outputs": [
    {
     "data": {
      "text/html": [
       "<div>\n",
       "<style scoped>\n",
       "    .dataframe tbody tr th:only-of-type {\n",
       "        vertical-align: middle;\n",
       "    }\n",
       "\n",
       "    .dataframe tbody tr th {\n",
       "        vertical-align: top;\n",
       "    }\n",
       "\n",
       "    .dataframe thead th {\n",
       "        text-align: right;\n",
       "    }\n",
       "</style>\n",
       "<table border=\"1\" class=\"dataframe\">\n",
       "  <thead>\n",
       "    <tr style=\"text-align: right;\">\n",
       "      <th></th>\n",
       "      <th>longitude</th>\n",
       "      <th>latitude</th>\n",
       "      <th>housing_median_age</th>\n",
       "      <th>total_rooms</th>\n",
       "      <th>total_bedrooms</th>\n",
       "      <th>population</th>\n",
       "      <th>households</th>\n",
       "      <th>median_income</th>\n",
       "      <th>median_house_value</th>\n",
       "    </tr>\n",
       "  </thead>\n",
       "  <tbody>\n",
       "    <tr>\n",
       "      <th>568</th>\n",
       "      <td>-117.02</td>\n",
       "      <td>36.40</td>\n",
       "      <td>19.0</td>\n",
       "      <td>619.0</td>\n",
       "      <td>239.0</td>\n",
       "      <td>490.0</td>\n",
       "      <td>164.0</td>\n",
       "      <td>2.1000</td>\n",
       "      <td>14999.0</td>\n",
       "    </tr>\n",
       "    <tr>\n",
       "      <th>16643</th>\n",
       "      <td>-122.74</td>\n",
       "      <td>39.71</td>\n",
       "      <td>16.0</td>\n",
       "      <td>255.0</td>\n",
       "      <td>73.0</td>\n",
       "      <td>85.0</td>\n",
       "      <td>38.0</td>\n",
       "      <td>1.6607</td>\n",
       "      <td>14999.0</td>\n",
       "    </tr>\n",
       "    <tr>\n",
       "      <th>16801</th>\n",
       "      <td>-123.17</td>\n",
       "      <td>40.31</td>\n",
       "      <td>36.0</td>\n",
       "      <td>98.0</td>\n",
       "      <td>28.0</td>\n",
       "      <td>18.0</td>\n",
       "      <td>8.0</td>\n",
       "      <td>0.5360</td>\n",
       "      <td>14999.0</td>\n",
       "    </tr>\n",
       "    <tr>\n",
       "      <th>3226</th>\n",
       "      <td>-117.86</td>\n",
       "      <td>34.24</td>\n",
       "      <td>52.0</td>\n",
       "      <td>803.0</td>\n",
       "      <td>267.0</td>\n",
       "      <td>628.0</td>\n",
       "      <td>225.0</td>\n",
       "      <td>4.1932</td>\n",
       "      <td>14999.0</td>\n",
       "    </tr>\n",
       "    <tr>\n",
       "      <th>7182</th>\n",
       "      <td>-118.33</td>\n",
       "      <td>34.15</td>\n",
       "      <td>39.0</td>\n",
       "      <td>493.0</td>\n",
       "      <td>168.0</td>\n",
       "      <td>259.0</td>\n",
       "      <td>138.0</td>\n",
       "      <td>2.3667</td>\n",
       "      <td>17500.0</td>\n",
       "    </tr>\n",
       "    <tr>\n",
       "      <th>...</th>\n",
       "      <td>...</td>\n",
       "      <td>...</td>\n",
       "      <td>...</td>\n",
       "      <td>...</td>\n",
       "      <td>...</td>\n",
       "      <td>...</td>\n",
       "      <td>...</td>\n",
       "      <td>...</td>\n",
       "      <td>...</td>\n",
       "    </tr>\n",
       "    <tr>\n",
       "      <th>15834</th>\n",
       "      <td>-122.42</td>\n",
       "      <td>37.81</td>\n",
       "      <td>52.0</td>\n",
       "      <td>1314.0</td>\n",
       "      <td>317.0</td>\n",
       "      <td>473.0</td>\n",
       "      <td>250.0</td>\n",
       "      <td>4.3472</td>\n",
       "      <td>500001.0</td>\n",
       "    </tr>\n",
       "    <tr>\n",
       "      <th>7927</th>\n",
       "      <td>-118.40</td>\n",
       "      <td>33.87</td>\n",
       "      <td>38.0</td>\n",
       "      <td>2398.0</td>\n",
       "      <td>431.0</td>\n",
       "      <td>911.0</td>\n",
       "      <td>392.0</td>\n",
       "      <td>5.2319</td>\n",
       "      <td>500001.0</td>\n",
       "    </tr>\n",
       "    <tr>\n",
       "      <th>3546</th>\n",
       "      <td>-117.90</td>\n",
       "      <td>33.63</td>\n",
       "      <td>28.0</td>\n",
       "      <td>2370.0</td>\n",
       "      <td>352.0</td>\n",
       "      <td>832.0</td>\n",
       "      <td>347.0</td>\n",
       "      <td>7.1148</td>\n",
       "      <td>500001.0</td>\n",
       "    </tr>\n",
       "    <tr>\n",
       "      <th>7924</th>\n",
       "      <td>-118.40</td>\n",
       "      <td>33.88</td>\n",
       "      <td>35.0</td>\n",
       "      <td>1060.0</td>\n",
       "      <td>191.0</td>\n",
       "      <td>444.0</td>\n",
       "      <td>196.0</td>\n",
       "      <td>8.0015</td>\n",
       "      <td>500001.0</td>\n",
       "    </tr>\n",
       "    <tr>\n",
       "      <th>14011</th>\n",
       "      <td>-122.04</td>\n",
       "      <td>37.26</td>\n",
       "      <td>24.0</td>\n",
       "      <td>4973.0</td>\n",
       "      <td>709.0</td>\n",
       "      <td>1692.0</td>\n",
       "      <td>696.0</td>\n",
       "      <td>7.8627</td>\n",
       "      <td>500001.0</td>\n",
       "    </tr>\n",
       "  </tbody>\n",
       "</table>\n",
       "<p>17000 rows × 9 columns</p>\n",
       "</div>"
      ],
      "text/plain": [
       "       longitude  latitude  housing_median_age  total_rooms  total_bedrooms  \\\n",
       "568      -117.02     36.40                19.0        619.0           239.0   \n",
       "16643    -122.74     39.71                16.0        255.0            73.0   \n",
       "16801    -123.17     40.31                36.0         98.0            28.0   \n",
       "3226     -117.86     34.24                52.0        803.0           267.0   \n",
       "7182     -118.33     34.15                39.0        493.0           168.0   \n",
       "...          ...       ...                 ...          ...             ...   \n",
       "15834    -122.42     37.81                52.0       1314.0           317.0   \n",
       "7927     -118.40     33.87                38.0       2398.0           431.0   \n",
       "3546     -117.90     33.63                28.0       2370.0           352.0   \n",
       "7924     -118.40     33.88                35.0       1060.0           191.0   \n",
       "14011    -122.04     37.26                24.0       4973.0           709.0   \n",
       "\n",
       "       population  households  median_income  median_house_value  \n",
       "568         490.0       164.0         2.1000             14999.0  \n",
       "16643        85.0        38.0         1.6607             14999.0  \n",
       "16801        18.0         8.0         0.5360             14999.0  \n",
       "3226        628.0       225.0         4.1932             14999.0  \n",
       "7182        259.0       138.0         2.3667             17500.0  \n",
       "...           ...         ...            ...                 ...  \n",
       "15834       473.0       250.0         4.3472            500001.0  \n",
       "7927        911.0       392.0         5.2319            500001.0  \n",
       "3546        832.0       347.0         7.1148            500001.0  \n",
       "7924        444.0       196.0         8.0015            500001.0  \n",
       "14011      1692.0       696.0         7.8627            500001.0  \n",
       "\n",
       "[17000 rows x 9 columns]"
      ]
     },
     "execution_count": 12,
     "metadata": {},
     "output_type": "execute_result"
    }
   ],
   "source": [
    "california_housing_dataframe.sort_values(by=\"median_house_value\")"
   ]
  },
  {
   "cell_type": "code",
   "execution_count": 13,
   "metadata": {
    "id": "WtmfxXPU7A42",
    "outputId": "07ab75a4-c369-41d3-9555-bae5c147ba04"
   },
   "outputs": [
    {
     "data": {
      "text/plain": [
       "array([15., 19., 17., 14., 20., 29., 25., 41., 34., 46., 16., 21., 48.,\n",
       "       31., 28., 24., 18., 30., 32., 23., 38., 35., 33., 13., 11., 10.,\n",
       "        6., 12., 27., 22.,  5.,  8., 37.,  3., 44.,  2., 26.,  9.,  7.,\n",
       "       36.,  4., 52., 40., 43., 42., 39., 49., 47., 50., 45., 51.,  1.])"
      ]
     },
     "execution_count": 13,
     "metadata": {},
     "output_type": "execute_result"
    }
   ],
   "source": [
    "california_housing_dataframe['housing_median_age'].unique()"
   ]
  },
  {
   "cell_type": "code",
   "execution_count": 14,
   "metadata": {
    "id": "AKGVpXlD7A42",
    "outputId": "8ff406a0-8260-4232-828e-9f01e087141a"
   },
   "outputs": [
    {
     "data": {
      "text/plain": [
       "longitude               827\n",
       "latitude                840\n",
       "housing_median_age       52\n",
       "total_rooms            5533\n",
       "total_bedrooms         1848\n",
       "population             3683\n",
       "households             1740\n",
       "median_income         11175\n",
       "median_house_value     3694\n",
       "dtype: int64"
      ]
     },
     "execution_count": 14,
     "metadata": {},
     "output_type": "execute_result"
    }
   ],
   "source": [
    "california_housing_dataframe.nunique()"
   ]
  },
  {
   "cell_type": "code",
   "execution_count": 15,
   "metadata": {
    "id": "jWqIPFld7A43",
    "outputId": "a58be14a-1544-4554-a1ae-9b8ba96bffdb"
   },
   "outputs": [
    {
     "data": {
      "text/plain": [
       "52"
      ]
     },
     "execution_count": 15,
     "metadata": {},
     "output_type": "execute_result"
    }
   ],
   "source": [
    "california_housing_dataframe['housing_median_age'].nunique()"
   ]
  },
  {
   "cell_type": "code",
   "execution_count": 16,
   "metadata": {
    "id": "YRy3a4Mf7A43",
    "outputId": "efe46d93-2298-4fe1-f2d3-5138e5164ed4",
    "scrolled": true
   },
   "outputs": [
    {
     "data": {
      "text/plain": [
       "52.0    1052\n",
       "36.0     715\n",
       "35.0     692\n",
       "16.0     635\n",
       "17.0     576\n",
       "34.0     567\n",
       "33.0     513\n",
       "26.0     503\n",
       "18.0     478\n",
       "25.0     461\n",
       "32.0     458\n",
       "37.0     437\n",
       "15.0     416\n",
       "19.0     412\n",
       "28.0     400\n",
       "27.0     397\n",
       "24.0     389\n",
       "31.0     384\n",
       "30.0     384\n",
       "20.0     383\n",
       "23.0     382\n",
       "29.0     374\n",
       "21.0     373\n",
       "14.0     347\n",
       "22.0     323\n",
       "38.0     318\n",
       "42.0     308\n",
       "39.0     302\n",
       "44.0     296\n",
       "43.0     286\n",
       "13.0     249\n",
       "40.0     249\n",
       "45.0     235\n",
       "41.0     232\n",
       "10.0     226\n",
       "11.0     208\n",
       "5.0      199\n",
       "46.0     196\n",
       "12.0     192\n",
       "8.0      178\n",
       "47.0     175\n",
       "9.0      172\n",
       "4.0      161\n",
       "7.0      151\n",
       "48.0     135\n",
       "6.0      129\n",
       "50.0     112\n",
       "49.0     111\n",
       "2.0       49\n",
       "3.0       46\n",
       "51.0      32\n",
       "1.0        2\n",
       "Name: housing_median_age, dtype: int64"
      ]
     },
     "execution_count": 16,
     "metadata": {},
     "output_type": "execute_result"
    }
   ],
   "source": [
    "california_housing_dataframe[\"housing_median_age\"].value_counts()"
   ]
  },
  {
   "cell_type": "code",
   "execution_count": 17,
   "metadata": {
    "id": "6E9L9p8q7A43"
   },
   "outputs": [],
   "source": [
    "def times2(x):\n",
    "    return x*2"
   ]
  },
  {
   "cell_type": "code",
   "execution_count": 18,
   "metadata": {
    "id": "qYsNLWyJ7A43",
    "outputId": "f9c9f03c-015e-42d5-b147-2097e28531c6"
   },
   "outputs": [
    {
     "data": {
      "text/html": [
       "<div>\n",
       "<style scoped>\n",
       "    .dataframe tbody tr th:only-of-type {\n",
       "        vertical-align: middle;\n",
       "    }\n",
       "\n",
       "    .dataframe tbody tr th {\n",
       "        vertical-align: top;\n",
       "    }\n",
       "\n",
       "    .dataframe thead th {\n",
       "        text-align: right;\n",
       "    }\n",
       "</style>\n",
       "<table border=\"1\" class=\"dataframe\">\n",
       "  <thead>\n",
       "    <tr style=\"text-align: right;\">\n",
       "      <th></th>\n",
       "      <th>longitude</th>\n",
       "      <th>latitude</th>\n",
       "      <th>housing_median_age</th>\n",
       "      <th>total_rooms</th>\n",
       "      <th>total_bedrooms</th>\n",
       "      <th>population</th>\n",
       "      <th>households</th>\n",
       "      <th>median_income</th>\n",
       "      <th>median_house_value</th>\n",
       "      <th>double</th>\n",
       "    </tr>\n",
       "  </thead>\n",
       "  <tbody>\n",
       "    <tr>\n",
       "      <th>0</th>\n",
       "      <td>-114.31</td>\n",
       "      <td>34.19</td>\n",
       "      <td>15.0</td>\n",
       "      <td>5612.0</td>\n",
       "      <td>1283.0</td>\n",
       "      <td>1015.0</td>\n",
       "      <td>472.0</td>\n",
       "      <td>1.4936</td>\n",
       "      <td>66900.0</td>\n",
       "      <td>30.0</td>\n",
       "    </tr>\n",
       "    <tr>\n",
       "      <th>1</th>\n",
       "      <td>-114.47</td>\n",
       "      <td>34.40</td>\n",
       "      <td>19.0</td>\n",
       "      <td>7650.0</td>\n",
       "      <td>1901.0</td>\n",
       "      <td>1129.0</td>\n",
       "      <td>463.0</td>\n",
       "      <td>1.8200</td>\n",
       "      <td>80100.0</td>\n",
       "      <td>38.0</td>\n",
       "    </tr>\n",
       "    <tr>\n",
       "      <th>2</th>\n",
       "      <td>-114.56</td>\n",
       "      <td>33.69</td>\n",
       "      <td>17.0</td>\n",
       "      <td>720.0</td>\n",
       "      <td>174.0</td>\n",
       "      <td>333.0</td>\n",
       "      <td>117.0</td>\n",
       "      <td>1.6509</td>\n",
       "      <td>85700.0</td>\n",
       "      <td>34.0</td>\n",
       "    </tr>\n",
       "    <tr>\n",
       "      <th>3</th>\n",
       "      <td>-114.57</td>\n",
       "      <td>33.64</td>\n",
       "      <td>14.0</td>\n",
       "      <td>1501.0</td>\n",
       "      <td>337.0</td>\n",
       "      <td>515.0</td>\n",
       "      <td>226.0</td>\n",
       "      <td>3.1917</td>\n",
       "      <td>73400.0</td>\n",
       "      <td>28.0</td>\n",
       "    </tr>\n",
       "    <tr>\n",
       "      <th>4</th>\n",
       "      <td>-114.57</td>\n",
       "      <td>33.57</td>\n",
       "      <td>20.0</td>\n",
       "      <td>1454.0</td>\n",
       "      <td>326.0</td>\n",
       "      <td>624.0</td>\n",
       "      <td>262.0</td>\n",
       "      <td>1.9250</td>\n",
       "      <td>65500.0</td>\n",
       "      <td>40.0</td>\n",
       "    </tr>\n",
       "  </tbody>\n",
       "</table>\n",
       "</div>"
      ],
      "text/plain": [
       "   longitude  latitude  housing_median_age  total_rooms  total_bedrooms  \\\n",
       "0    -114.31     34.19                15.0       5612.0          1283.0   \n",
       "1    -114.47     34.40                19.0       7650.0          1901.0   \n",
       "2    -114.56     33.69                17.0        720.0           174.0   \n",
       "3    -114.57     33.64                14.0       1501.0           337.0   \n",
       "4    -114.57     33.57                20.0       1454.0           326.0   \n",
       "\n",
       "   population  households  median_income  median_house_value  double  \n",
       "0      1015.0       472.0         1.4936             66900.0    30.0  \n",
       "1      1129.0       463.0         1.8200             80100.0    38.0  \n",
       "2       333.0       117.0         1.6509             85700.0    34.0  \n",
       "3       515.0       226.0         3.1917             73400.0    28.0  \n",
       "4       624.0       262.0         1.9250             65500.0    40.0  "
      ]
     },
     "execution_count": 18,
     "metadata": {},
     "output_type": "execute_result"
    }
   ],
   "source": [
    "california_housing_dataframe[\"double\"]=california_housing_dataframe['housing_median_age'].apply(times2)\n",
    "california_housing_dataframe.head()"
   ]
  },
  {
   "cell_type": "code",
   "execution_count": 19,
   "metadata": {
    "id": "C-oomCc67A44",
    "outputId": "54da4d57-e48f-42db-ab0f-398f43853070"
   },
   "outputs": [
    {
     "data": {
      "text/plain": [
       "486019.0"
      ]
     },
     "execution_count": 19,
     "metadata": {},
     "output_type": "execute_result"
    }
   ],
   "source": [
    "california_housing_dataframe['housing_median_age'].sum()"
   ]
  },
  {
   "cell_type": "code",
   "execution_count": 20,
   "metadata": {
    "id": "IXSrF1HS7A44",
    "outputId": "429b1edd-0b24-43b0-d9f6-6615c96aca92"
   },
   "outputs": [
    {
     "data": {
      "text/html": [
       "<div>\n",
       "<style scoped>\n",
       "    .dataframe tbody tr th:only-of-type {\n",
       "        vertical-align: middle;\n",
       "    }\n",
       "\n",
       "    .dataframe tbody tr th {\n",
       "        vertical-align: top;\n",
       "    }\n",
       "\n",
       "    .dataframe thead th {\n",
       "        text-align: right;\n",
       "    }\n",
       "</style>\n",
       "<table border=\"1\" class=\"dataframe\">\n",
       "  <thead>\n",
       "    <tr style=\"text-align: right;\">\n",
       "      <th></th>\n",
       "      <th>longitude</th>\n",
       "      <th>latitude</th>\n",
       "      <th>housing_median_age</th>\n",
       "      <th>total_rooms</th>\n",
       "      <th>total_bedrooms</th>\n",
       "      <th>population</th>\n",
       "      <th>households</th>\n",
       "      <th>median_income</th>\n",
       "      <th>median_house_value</th>\n",
       "    </tr>\n",
       "  </thead>\n",
       "  <tbody>\n",
       "    <tr>\n",
       "      <th>0</th>\n",
       "      <td>-114.31</td>\n",
       "      <td>34.19</td>\n",
       "      <td>15.0</td>\n",
       "      <td>5612.0</td>\n",
       "      <td>1283.0</td>\n",
       "      <td>1015.0</td>\n",
       "      <td>472.0</td>\n",
       "      <td>1.4936</td>\n",
       "      <td>66900.0</td>\n",
       "    </tr>\n",
       "    <tr>\n",
       "      <th>1</th>\n",
       "      <td>-114.47</td>\n",
       "      <td>34.40</td>\n",
       "      <td>19.0</td>\n",
       "      <td>7650.0</td>\n",
       "      <td>1901.0</td>\n",
       "      <td>1129.0</td>\n",
       "      <td>463.0</td>\n",
       "      <td>1.8200</td>\n",
       "      <td>80100.0</td>\n",
       "    </tr>\n",
       "    <tr>\n",
       "      <th>2</th>\n",
       "      <td>-114.56</td>\n",
       "      <td>33.69</td>\n",
       "      <td>17.0</td>\n",
       "      <td>720.0</td>\n",
       "      <td>174.0</td>\n",
       "      <td>333.0</td>\n",
       "      <td>117.0</td>\n",
       "      <td>1.6509</td>\n",
       "      <td>85700.0</td>\n",
       "    </tr>\n",
       "    <tr>\n",
       "      <th>3</th>\n",
       "      <td>-114.57</td>\n",
       "      <td>33.64</td>\n",
       "      <td>14.0</td>\n",
       "      <td>1501.0</td>\n",
       "      <td>337.0</td>\n",
       "      <td>515.0</td>\n",
       "      <td>226.0</td>\n",
       "      <td>3.1917</td>\n",
       "      <td>73400.0</td>\n",
       "    </tr>\n",
       "    <tr>\n",
       "      <th>4</th>\n",
       "      <td>-114.57</td>\n",
       "      <td>33.57</td>\n",
       "      <td>20.0</td>\n",
       "      <td>1454.0</td>\n",
       "      <td>326.0</td>\n",
       "      <td>624.0</td>\n",
       "      <td>262.0</td>\n",
       "      <td>1.9250</td>\n",
       "      <td>65500.0</td>\n",
       "    </tr>\n",
       "  </tbody>\n",
       "</table>\n",
       "</div>"
      ],
      "text/plain": [
       "   longitude  latitude  housing_median_age  total_rooms  total_bedrooms  \\\n",
       "0    -114.31     34.19                15.0       5612.0          1283.0   \n",
       "1    -114.47     34.40                19.0       7650.0          1901.0   \n",
       "2    -114.56     33.69                17.0        720.0           174.0   \n",
       "3    -114.57     33.64                14.0       1501.0           337.0   \n",
       "4    -114.57     33.57                20.0       1454.0           326.0   \n",
       "\n",
       "   population  households  median_income  median_house_value  \n",
       "0      1015.0       472.0         1.4936             66900.0  \n",
       "1      1129.0       463.0         1.8200             80100.0  \n",
       "2       333.0       117.0         1.6509             85700.0  \n",
       "3       515.0       226.0         3.1917             73400.0  \n",
       "4       624.0       262.0         1.9250             65500.0  "
      ]
     },
     "execution_count": 20,
     "metadata": {},
     "output_type": "execute_result"
    }
   ],
   "source": [
    "del california_housing_dataframe[\"double\"]\n",
    "california_housing_dataframe.head()"
   ]
  },
  {
   "cell_type": "markdown",
   "metadata": {
    "id": "9rYVc48p7A44"
   },
   "source": [
    "à lire: https://pandas.pydata.org/pandas-docs/stable/user_guide/dsintro.html "
   ]
  },
  {
   "cell_type": "markdown",
   "metadata": {
    "id": "w9-Es5Y6laGd"
   },
   "source": [
    "## La visualisation de données \n",
    "\n",
    "Autre fonction puissante de Pandas : **la représentation graphique** \n",
    " \n",
    " Avec `DataFrame.hist`, par exemple, vous pouvez vérifier rapidement la façon avec laquelle les valeurs d'une colonne sont distribuées :"
   ]
  },
  {
   "cell_type": "code",
   "execution_count": 21,
   "metadata": {
    "id": "nn0jUdw47A45",
    "outputId": "d894a39d-642c-4013-f0b6-2898f6246761"
   },
   "outputs": [
    {
     "data": {
      "text/html": [
       "<div>\n",
       "<style scoped>\n",
       "    .dataframe tbody tr th:only-of-type {\n",
       "        vertical-align: middle;\n",
       "    }\n",
       "\n",
       "    .dataframe tbody tr th {\n",
       "        vertical-align: top;\n",
       "    }\n",
       "\n",
       "    .dataframe thead th {\n",
       "        text-align: right;\n",
       "    }\n",
       "</style>\n",
       "<table border=\"1\" class=\"dataframe\">\n",
       "  <thead>\n",
       "    <tr style=\"text-align: right;\">\n",
       "      <th></th>\n",
       "      <th>longitude</th>\n",
       "      <th>latitude</th>\n",
       "      <th>housing_median_age</th>\n",
       "      <th>total_rooms</th>\n",
       "      <th>total_bedrooms</th>\n",
       "      <th>population</th>\n",
       "      <th>households</th>\n",
       "      <th>median_income</th>\n",
       "      <th>median_house_value</th>\n",
       "    </tr>\n",
       "  </thead>\n",
       "  <tbody>\n",
       "    <tr>\n",
       "      <th>0</th>\n",
       "      <td>-114.31</td>\n",
       "      <td>34.19</td>\n",
       "      <td>15.0</td>\n",
       "      <td>5612.0</td>\n",
       "      <td>1283.0</td>\n",
       "      <td>1015.0</td>\n",
       "      <td>472.0</td>\n",
       "      <td>1.4936</td>\n",
       "      <td>66900.0</td>\n",
       "    </tr>\n",
       "    <tr>\n",
       "      <th>1</th>\n",
       "      <td>-114.47</td>\n",
       "      <td>34.40</td>\n",
       "      <td>19.0</td>\n",
       "      <td>7650.0</td>\n",
       "      <td>1901.0</td>\n",
       "      <td>1129.0</td>\n",
       "      <td>463.0</td>\n",
       "      <td>1.8200</td>\n",
       "      <td>80100.0</td>\n",
       "    </tr>\n",
       "    <tr>\n",
       "      <th>2</th>\n",
       "      <td>-114.56</td>\n",
       "      <td>33.69</td>\n",
       "      <td>17.0</td>\n",
       "      <td>720.0</td>\n",
       "      <td>174.0</td>\n",
       "      <td>333.0</td>\n",
       "      <td>117.0</td>\n",
       "      <td>1.6509</td>\n",
       "      <td>85700.0</td>\n",
       "    </tr>\n",
       "    <tr>\n",
       "      <th>3</th>\n",
       "      <td>-114.57</td>\n",
       "      <td>33.64</td>\n",
       "      <td>14.0</td>\n",
       "      <td>1501.0</td>\n",
       "      <td>337.0</td>\n",
       "      <td>515.0</td>\n",
       "      <td>226.0</td>\n",
       "      <td>3.1917</td>\n",
       "      <td>73400.0</td>\n",
       "    </tr>\n",
       "    <tr>\n",
       "      <th>4</th>\n",
       "      <td>-114.57</td>\n",
       "      <td>33.57</td>\n",
       "      <td>20.0</td>\n",
       "      <td>1454.0</td>\n",
       "      <td>326.0</td>\n",
       "      <td>624.0</td>\n",
       "      <td>262.0</td>\n",
       "      <td>1.9250</td>\n",
       "      <td>65500.0</td>\n",
       "    </tr>\n",
       "  </tbody>\n",
       "</table>\n",
       "</div>"
      ],
      "text/plain": [
       "   longitude  latitude  housing_median_age  total_rooms  total_bedrooms  \\\n",
       "0    -114.31     34.19                15.0       5612.0          1283.0   \n",
       "1    -114.47     34.40                19.0       7650.0          1901.0   \n",
       "2    -114.56     33.69                17.0        720.0           174.0   \n",
       "3    -114.57     33.64                14.0       1501.0           337.0   \n",
       "4    -114.57     33.57                20.0       1454.0           326.0   \n",
       "\n",
       "   population  households  median_income  median_house_value  \n",
       "0      1015.0       472.0         1.4936             66900.0  \n",
       "1      1129.0       463.0         1.8200             80100.0  \n",
       "2       333.0       117.0         1.6509             85700.0  \n",
       "3       515.0       226.0         3.1917             73400.0  \n",
       "4       624.0       262.0         1.9250             65500.0  "
      ]
     },
     "execution_count": 21,
     "metadata": {},
     "output_type": "execute_result"
    }
   ],
   "source": [
    "california_housing_dataframe.head()"
   ]
  },
  {
   "cell_type": "code",
   "execution_count": 22,
   "metadata": {
    "id": "nqndFVXVlbPN",
    "outputId": "44e092db-7518-4083-f530-21fe38b55fe0",
    "scrolled": true
   },
   "outputs": [
    {
     "data": {
      "text/plain": [
       "array([[<AxesSubplot:title={'center':'housing_median_age'}>]],\n",
       "      dtype=object)"
      ]
     },
     "execution_count": 22,
     "metadata": {},
     "output_type": "execute_result"
    },
    {
     "data": {
      "image/png": "[encoded data removed]",
      "text/plain": [
       "<Figure size 432x288 with 1 Axes>"
      ]
     },
     "metadata": {
      "needs_background": "light"
     },
     "output_type": "display_data"
    }
   ],
   "source": [
    "california_housing_dataframe.hist('housing_median_age')"
   ]
  },
  {
   "cell_type": "code",
   "execution_count": 23,
   "metadata": {
    "id": "GUAMj7Rm7A45",
    "outputId": "6c2c807d-f808-475d-844e-e3b204953d25"
   },
   "outputs": [
    {
     "data": {
      "text/plain": [
       "array([[<AxesSubplot:title={'center':'median_house_value'}>]],\n",
       "      dtype=object)"
      ]
     },
     "execution_count": 23,
     "metadata": {},
     "output_type": "execute_result"
    },
    {
     "data": {
      "image/png": "[encoded data removed]",
      "text/plain": [
       "<Figure size 432x288 with 1 Axes>"
      ]
     },
     "metadata": {
      "needs_background": "light"
     },
     "output_type": "display_data"
    }
   ],
   "source": [
    "california_housing_dataframe.hist('median_house_value')"
   ]
  },
  {
   "cell_type": "code",
   "execution_count": 24,
   "metadata": {
    "id": "YVCwyO7A7A45",
    "outputId": "ad8f2c5d-536c-455a-8cbf-2bed17eeac39"
   },
   "outputs": [
    {
     "data": {
      "image/png": "[encoded data removed]",
      "text/plain": [
       "<Figure size 432x288 with 1 Axes>"
      ]
     },
     "metadata": {
      "needs_background": "light"
     },
     "output_type": "display_data"
    }
   ],
   "source": [
    "california_housing_dataframe.iloc[8].plot(kind=\"bar\");"
   ]
  },
  {
   "cell_type": "markdown",
   "metadata": {
    "id": "DYrEeBUh7A45"
   },
   "source": [
    "* Basic plottings"
   ]
  },
  {
   "cell_type": "code",
   "execution_count": 25,
   "metadata": {
    "id": "myFK5KVJ7A46",
    "outputId": "99c42230-53c4-4174-8fe5-be13c00976b9"
   },
   "outputs": [
    {
     "data": {
      "image/png": "[encoded data removed]",
      "text/plain": [
       "<Figure size 432x288 with 1 Axes>"
      ]
     },
     "metadata": {
      "needs_background": "light"
     },
     "output_type": "display_data"
    }
   ],
   "source": [
    "ts = pd.Series(np.random.randn(1000), index=pd.date_range(\"1/1/2021\", periods=1000))\n",
    "\n",
    "ts = ts.cumsum()\n",
    "\n",
    "ts.plot();"
   ]
  },
  {
   "cell_type": "markdown",
   "metadata": {
    "id": "k_yDvNZO7A46"
   },
   "source": [
    "On trouve d'autres types de plots avec des styles autres que linéaire (par défaut).\n",
    "\n",
    "* ‘bar’ or ‘barh’ for bar plots\n",
    "\n",
    "* ‘hist’ for histogram\n",
    "\n",
    "* ‘box’ for boxplot\n",
    "\n",
    "* ‘kde’ or ‘density’ for density plots\n",
    "\n",
    "* ‘area’ for area plots\n",
    "\n",
    "* ‘scatter’ for scatter plots\n",
    "\n",
    "* ‘hexbin’ for hexagonal bin plots\n",
    "\n",
    "* ‘pie’ for pie plots\n",
    "\n",
    "=> Ces méthodes peuvent être spécifiées avec le mot clé *kind=* en tant qu’argument à plot() :"
   ]
  },
  {
   "cell_type": "code",
   "execution_count": 26,
   "metadata": {
    "id": "1BnprPST7A46",
    "outputId": "938f42bc-8e70-4676-95dd-6f9ade2d5d9d"
   },
   "outputs": [
    {
     "data": {
      "image/png": "[encoded data removed]",
      "text/plain": [
       "<Figure size 432x288 with 1 Axes>"
      ]
     },
     "metadata": {
      "needs_background": "light"
     },
     "output_type": "display_data"
    }
   ],
   "source": [
    "df = pd.DataFrame(np.random.randn(1000, 4), index=ts.index, columns=list(\"ABCD\"))\n",
    "df = df.cumsum()\n",
    "df.plot();\n"
   ]
  },
  {
   "cell_type": "code",
   "execution_count": 27,
   "metadata": {
    "id": "l0UOuqLN7A46",
    "outputId": "8f386adf-7232-4e6c-d78a-82c86b6b3692"
   },
   "outputs": [
    {
     "data": {
      "text/html": [
       "<div>\n",
       "<style scoped>\n",
       "    .dataframe tbody tr th:only-of-type {\n",
       "        vertical-align: middle;\n",
       "    }\n",
       "\n",
       "    .dataframe tbody tr th {\n",
       "        vertical-align: top;\n",
       "    }\n",
       "\n",
       "    .dataframe thead th {\n",
       "        text-align: right;\n",
       "    }\n",
       "</style>\n",
       "<table border=\"1\" class=\"dataframe\">\n",
       "  <thead>\n",
       "    <tr style=\"text-align: right;\">\n",
       "      <th></th>\n",
       "      <th>A</th>\n",
       "      <th>B</th>\n",
       "      <th>C</th>\n",
       "      <th>D</th>\n",
       "    </tr>\n",
       "  </thead>\n",
       "  <tbody>\n",
       "    <tr>\n",
       "      <th>2021-01-01</th>\n",
       "      <td>0.790464</td>\n",
       "      <td>0.812857</td>\n",
       "      <td>-0.918186</td>\n",
       "      <td>-0.056098</td>\n",
       "    </tr>\n",
       "    <tr>\n",
       "      <th>2021-01-02</th>\n",
       "      <td>1.169280</td>\n",
       "      <td>1.779398</td>\n",
       "      <td>-4.622366</td>\n",
       "      <td>0.891088</td>\n",
       "    </tr>\n",
       "    <tr>\n",
       "      <th>2021-01-03</th>\n",
       "      <td>1.734921</td>\n",
       "      <td>2.251117</td>\n",
       "      <td>-5.374651</td>\n",
       "      <td>2.128323</td>\n",
       "    </tr>\n",
       "    <tr>\n",
       "      <th>2021-01-04</th>\n",
       "      <td>1.064945</td>\n",
       "      <td>2.438757</td>\n",
       "      <td>-5.283374</td>\n",
       "      <td>2.341540</td>\n",
       "    </tr>\n",
       "    <tr>\n",
       "      <th>2021-01-05</th>\n",
       "      <td>2.265993</td>\n",
       "      <td>3.439263</td>\n",
       "      <td>-5.356088</td>\n",
       "      <td>2.628018</td>\n",
       "    </tr>\n",
       "  </tbody>\n",
       "</table>\n",
       "</div>"
      ],
      "text/plain": [
       "                   A         B         C         D\n",
       "2021-01-01  0.790464  0.812857 -0.918186 -0.056098\n",
       "2021-01-02  1.169280  1.779398 -4.622366  0.891088\n",
       "2021-01-03  1.734921  2.251117 -5.374651  2.128323\n",
       "2021-01-04  1.064945  2.438757 -5.283374  2.341540\n",
       "2021-01-05  2.265993  3.439263 -5.356088  2.628018"
      ]
     },
     "execution_count": 27,
     "metadata": {},
     "output_type": "execute_result"
    }
   ],
   "source": [
    "df.head()"
   ]
  },
  {
   "cell_type": "markdown",
   "metadata": {
    "id": "RgOz9FfO7A47"
   },
   "source": [
    "à lire: https://pandas.pydata.org/pandas-docs/stable/user_guide/visualization.html"
   ]
  },
  {
   "cell_type": "markdown",
   "metadata": {
    "id": "XtYZ7114n3b-"
   },
   "source": [
    " ## Accéder aux données\n",
    "\n",
    "L'accès aux données d'un `DataFrame` s'effectue au moyen d'opérations de liste ou de dictionnaire Python courantes :"
   ]
  },
  {
   "cell_type": "markdown",
   "metadata": {
    "id": "65g1ZdGVjXsQ"
   },
   "source": [
    " *Pandas* propose en outre une API extrêmement riche, avec des fonctions avancées d'[indexation ](http://pandas.pydata.org/pandas-docs/stable/indexing.html) et [de sélection](https://pandas.pydata.org/pandas-docs/stable/user_guide/advanced.html) basées sur les méthodes .at, .iat, .loc et .iloc."
   ]
  },
  {
   "cell_type": "code",
   "execution_count": 28,
   "metadata": {
    "id": "_TFm7-looBFF",
    "outputId": "bb4ad54d-3833-4d2a-cf1d-60a3125a2a12"
   },
   "outputs": [
    {
     "data": {
      "text/html": [
       "<div>\n",
       "<style scoped>\n",
       "    .dataframe tbody tr th:only-of-type {\n",
       "        vertical-align: middle;\n",
       "    }\n",
       "\n",
       "    .dataframe tbody tr th {\n",
       "        vertical-align: top;\n",
       "    }\n",
       "\n",
       "    .dataframe thead th {\n",
       "        text-align: right;\n",
       "    }\n",
       "</style>\n",
       "<table border=\"1\" class=\"dataframe\">\n",
       "  <thead>\n",
       "    <tr style=\"text-align: right;\">\n",
       "      <th></th>\n",
       "      <th>City_name</th>\n",
       "      <th>Population</th>\n",
       "    </tr>\n",
       "  </thead>\n",
       "  <tbody>\n",
       "    <tr>\n",
       "      <th>0</th>\n",
       "      <td>Paris</td>\n",
       "      <td>852469</td>\n",
       "    </tr>\n",
       "    <tr>\n",
       "      <th>1</th>\n",
       "      <td>Lille</td>\n",
       "      <td>1015785</td>\n",
       "    </tr>\n",
       "    <tr>\n",
       "      <th>2</th>\n",
       "      <td>Toulouse</td>\n",
       "      <td>485199</td>\n",
       "    </tr>\n",
       "  </tbody>\n",
       "</table>\n",
       "</div>"
      ],
      "text/plain": [
       "  City_name  Population\n",
       "0     Paris      852469\n",
       "1     Lille     1015785\n",
       "2  Toulouse      485199"
      ]
     },
     "execution_count": 28,
     "metadata": {},
     "output_type": "execute_result"
    }
   ],
   "source": [
    "cities = pd.DataFrame({ 'City_name': city_names, 'Population': population })\n",
    "cities.head()"
   ]
  },
  {
   "cell_type": "code",
   "execution_count": 29,
   "metadata": {
    "id": "V-b690-b7A47",
    "outputId": "44a9bf0d-28df-4b45-c88d-94924996eb5b"
   },
   "outputs": [
    {
     "name": "stdout",
     "output_type": "stream",
     "text": [
      "<class 'pandas.core.series.Series'>\n"
     ]
    },
    {
     "data": {
      "text/plain": [
       "0       Paris\n",
       "1       Lille\n",
       "2    Toulouse\n",
       "Name: City_name, dtype: object"
      ]
     },
     "execution_count": 29,
     "metadata": {},
     "output_type": "execute_result"
    }
   ],
   "source": [
    "#Selecting Columns\n",
    "print(type(cities['City_name']))\n",
    "cities['City_name']\n",
    "#equivalent\n",
    "#cities.City_name"
   ]
  },
  {
   "cell_type": "code",
   "execution_count": 30,
   "metadata": {
    "id": "V5L6xacLoxyv",
    "outputId": "8f7d5dd5-261c-4015-e53a-88c65d248cfd"
   },
   "outputs": [
    {
     "name": "stdout",
     "output_type": "stream",
     "text": [
      "<class 'str'>\n",
      "Lille\n"
     ]
    },
    {
     "data": {
      "text/plain": [
       "'Lille'"
      ]
     },
     "execution_count": 30,
     "metadata": {},
     "output_type": "execute_result"
    }
   ],
   "source": [
    "print(type(cities['City_name'][1]))\n",
    "print(cities['City_name'][1])\n",
    "cities.City_name[1]"
   ]
  },
  {
   "cell_type": "code",
   "execution_count": 31,
   "metadata": {
    "id": "gcYX1tBPugZl",
    "outputId": "387fbe9f-9914-455c-8ff6-0e25a9886b44"
   },
   "outputs": [
    {
     "name": "stdout",
     "output_type": "stream",
     "text": [
      "<class 'pandas.core.frame.DataFrame'>\n"
     ]
    },
    {
     "data": {
      "text/html": [
       "<div>\n",
       "<style scoped>\n",
       "    .dataframe tbody tr th:only-of-type {\n",
       "        vertical-align: middle;\n",
       "    }\n",
       "\n",
       "    .dataframe tbody tr th {\n",
       "        vertical-align: top;\n",
       "    }\n",
       "\n",
       "    .dataframe thead th {\n",
       "        text-align: right;\n",
       "    }\n",
       "</style>\n",
       "<table border=\"1\" class=\"dataframe\">\n",
       "  <thead>\n",
       "    <tr style=\"text-align: right;\">\n",
       "      <th></th>\n",
       "      <th>City_name</th>\n",
       "      <th>Population</th>\n",
       "    </tr>\n",
       "  </thead>\n",
       "  <tbody>\n",
       "    <tr>\n",
       "      <th>0</th>\n",
       "      <td>Paris</td>\n",
       "      <td>852469</td>\n",
       "    </tr>\n",
       "    <tr>\n",
       "      <th>1</th>\n",
       "      <td>Lille</td>\n",
       "      <td>1015785</td>\n",
       "    </tr>\n",
       "    <tr>\n",
       "      <th>2</th>\n",
       "      <td>Toulouse</td>\n",
       "      <td>485199</td>\n",
       "    </tr>\n",
       "  </tbody>\n",
       "</table>\n",
       "</div>"
      ],
      "text/plain": [
       "  City_name  Population\n",
       "0     Paris      852469\n",
       "1     Lille     1015785\n",
       "2  Toulouse      485199"
      ]
     },
     "execution_count": 31,
     "metadata": {},
     "output_type": "execute_result"
    }
   ],
   "source": [
    "#Selecting rows\n",
    "print(type(cities[0:2]))\n",
    "cities[0:3]"
   ]
  },
  {
   "cell_type": "code",
   "execution_count": 32,
   "metadata": {
    "id": "WGChD9L67A48",
    "outputId": "613e58be-f340-4e37-a8a3-158e8e29de31"
   },
   "outputs": [
    {
     "data": {
      "text/plain": [
       "City_name       Lille\n",
       "Population    1015785\n",
       "Name: 1, dtype: object"
      ]
     },
     "execution_count": 32,
     "metadata": {},
     "output_type": "execute_result"
    }
   ],
   "source": [
    "cities.loc[1]"
   ]
  },
  {
   "cell_type": "code",
   "execution_count": 33,
   "metadata": {
    "id": "_1ck6_qs7A48",
    "outputId": "be1ec7c6-069c-477d-9bac-093642afdeff"
   },
   "outputs": [
    {
     "data": {
      "text/html": [
       "<div>\n",
       "<style scoped>\n",
       "    .dataframe tbody tr th:only-of-type {\n",
       "        vertical-align: middle;\n",
       "    }\n",
       "\n",
       "    .dataframe tbody tr th {\n",
       "        vertical-align: top;\n",
       "    }\n",
       "\n",
       "    .dataframe thead th {\n",
       "        text-align: right;\n",
       "    }\n",
       "</style>\n",
       "<table border=\"1\" class=\"dataframe\">\n",
       "  <thead>\n",
       "    <tr style=\"text-align: right;\">\n",
       "      <th></th>\n",
       "      <th>Population</th>\n",
       "    </tr>\n",
       "  </thead>\n",
       "  <tbody>\n",
       "    <tr>\n",
       "      <th>1</th>\n",
       "      <td>1015785</td>\n",
       "    </tr>\n",
       "    <tr>\n",
       "      <th>2</th>\n",
       "      <td>485199</td>\n",
       "    </tr>\n",
       "  </tbody>\n",
       "</table>\n",
       "</div>"
      ],
      "text/plain": [
       "   Population\n",
       "1     1015785\n",
       "2      485199"
      ]
     },
     "execution_count": 33,
     "metadata": {},
     "output_type": "execute_result"
    }
   ],
   "source": [
    "# Selecting multi axis label + Slicing\n",
    "cities.loc[1:2, [\"Population\"]]"
   ]
  },
  {
   "cell_type": "markdown",
   "metadata": {
    "id": "RM1iaD-ka3Y1"
   },
   "source": [
    " ## Manipuler des données\n",
    "\n",
    "Il est possible d'effectuer des opérations arithmétiques de base de Python sur les `Series`. Par exemple :"
   ]
  },
  {
   "cell_type": "code",
   "execution_count": 34,
   "metadata": {
    "id": "XWmyCFJ5bOv-",
    "outputId": "f1402ddf-a30b-4e43-db60-1e3bcceffb5d"
   },
   "outputs": [
    {
     "data": {
      "text/plain": [
       "0     852.469\n",
       "1    1015.785\n",
       "2     485.199\n",
       "dtype: float64"
      ]
     },
     "execution_count": 34,
     "metadata": {},
     "output_type": "execute_result"
    }
   ],
   "source": [
    "population / 1000."
   ]
  },
  {
   "cell_type": "code",
   "execution_count": 35,
   "metadata": {
    "id": "nR7CyM-b7A48",
    "outputId": "38e3a498-4ceb-478e-e540-109c5ae91fba"
   },
   "outputs": [
    {
     "name": "stdout",
     "output_type": "stream",
     "text": [
      "<class 'pandas.core.series.Series'>\n"
     ]
    }
   ],
   "source": [
    "print(type(population))"
   ]
  },
  {
   "cell_type": "markdown",
   "metadata": {
    "id": "TQzIVnbnmWGM"
   },
   "source": [
    " [NumPy](http://www.numpy.org/) est un kit d'outils de calculs scientifiques populaire. Les `Series` *Pandas* peuvent faire office d'arguments pour la plupart des fonctions NumPy :"
   ]
  },
  {
   "cell_type": "code",
   "execution_count": 36,
   "metadata": {
    "id": "ko6pLK6JmkYP"
   },
   "outputs": [
    {
     "data": {
      "text/plain": [
       "0    13.655892\n",
       "1    13.831172\n",
       "2    13.092314\n",
       "dtype: float64"
      ]
     },
     "execution_count": 36,
     "metadata": {},
     "output_type": "execute_result"
    }
   ],
   "source": [
    "import numpy as np\n",
    "\n",
    "np.log(population)"
   ]
  },
  {
   "cell_type": "markdown",
   "metadata": {
    "id": "xmxFuQmurr6d"
   },
   "source": [
    " La méthode `Series.apply` convient pour les transformations à une colonne plus complexes. Comme la [fonction `map`](https://docs.python.org/2/library/functions.html#map) de Python, elle accepte en argument une [fonction `lambda`](https://docs.python.org/2/tutorial/controlflow.html#lambda-expressions), appliquée à chaque valeur.\n",
    "\n",
    "L'exemple ci-dessous permet de créer une `Series` signalant si la `population` dépasse ou non un million d'habitants :"
   ]
  },
  {
   "cell_type": "code",
   "execution_count": 37,
   "metadata": {
    "id": "Fc1DvPAbstjI",
    "outputId": "c993a572-b420-49c4-b47f-e16cc6802481"
   },
   "outputs": [
    {
     "data": {
      "text/plain": [
       "0    False\n",
       "1     True\n",
       "2    False\n",
       "dtype: bool"
      ]
     },
     "execution_count": 37,
     "metadata": {},
     "output_type": "execute_result"
    }
   ],
   "source": [
    "population.apply(lambda val: val > 1000000)"
   ]
  },
  {
   "cell_type": "markdown",
   "metadata": {
    "id": "ZeYYLoV9b9fB"
   },
   "source": [
    " \n",
    "La modification des `DataFrames` est plutôt simple. \n",
    "\n",
    "Exemple: ajouter deux `Series` à un `DataFrame` existant "
   ]
  },
  {
   "cell_type": "code",
   "execution_count": 38,
   "metadata": {
    "id": "0gCEX99Hb8LR",
    "outputId": "0e41ac82-7dd8-4b88-98a8-478d1090b9b2"
   },
   "outputs": [
    {
     "data": {
      "text/html": [
       "<div>\n",
       "<style scoped>\n",
       "    .dataframe tbody tr th:only-of-type {\n",
       "        vertical-align: middle;\n",
       "    }\n",
       "\n",
       "    .dataframe tbody tr th {\n",
       "        vertical-align: top;\n",
       "    }\n",
       "\n",
       "    .dataframe thead th {\n",
       "        text-align: right;\n",
       "    }\n",
       "</style>\n",
       "<table border=\"1\" class=\"dataframe\">\n",
       "  <thead>\n",
       "    <tr style=\"text-align: right;\">\n",
       "      <th></th>\n",
       "      <th>City_name</th>\n",
       "      <th>Population</th>\n",
       "      <th>Area square miles</th>\n",
       "      <th>Population density</th>\n",
       "      <th>year</th>\n",
       "    </tr>\n",
       "  </thead>\n",
       "  <tbody>\n",
       "    <tr>\n",
       "      <th>0</th>\n",
       "      <td>Paris</td>\n",
       "      <td>852469</td>\n",
       "      <td>46.87</td>\n",
       "      <td>18187.945381</td>\n",
       "      <td>2000.0</td>\n",
       "    </tr>\n",
       "    <tr>\n",
       "      <th>1</th>\n",
       "      <td>Lille</td>\n",
       "      <td>1015785</td>\n",
       "      <td>176.53</td>\n",
       "      <td>5754.177760</td>\n",
       "      <td>2000.0</td>\n",
       "    </tr>\n",
       "    <tr>\n",
       "      <th>2</th>\n",
       "      <td>Toulouse</td>\n",
       "      <td>485199</td>\n",
       "      <td>97.92</td>\n",
       "      <td>4955.055147</td>\n",
       "      <td>NaN</td>\n",
       "    </tr>\n",
       "  </tbody>\n",
       "</table>\n",
       "</div>"
      ],
      "text/plain": [
       "  City_name  Population  Area square miles  Population density    year\n",
       "0     Paris      852469              46.87        18187.945381  2000.0\n",
       "1     Lille     1015785             176.53         5754.177760  2000.0\n",
       "2  Toulouse      485199              97.92         4955.055147     NaN"
      ]
     },
     "execution_count": 38,
     "metadata": {},
     "output_type": "execute_result"
    }
   ],
   "source": [
    "cities['Area square miles'] = pd.Series([46.87, 176.53, 97.92])\n",
    "cities['Population density'] = cities['Population'] / cities['Area square miles']\n",
    "cities.loc[0:1, \"year\"] = 2000\n",
    "cities"
   ]
  },
  {
   "cell_type": "markdown",
   "metadata": {
    "id": "0PaxyFcK7A4-"
   },
   "source": [
    "*Pandas* peut ajouter automatiquement des valeurs manquantes. Mais on peut aussi indiquer explicitement des valeurs manquantes. \n",
    "\n",
    "Trois valeurs correspondant à trois types peuvent indiquer des valeurs manquantes :\n",
    "\n",
    "-   `nan` (du module `numpy` par exemple) pour toutes les valeurs\n",
    "    numériques\n",
    "-   `None` pour les objets en général\n",
    "-   `NaT` (Not a Time, du module `pandas`) pour les dates\n",
    "\n",
    "On peut tester une une valeur est manquante avec la fonction `isnull` :"
   ]
  },
  {
   "cell_type": "code",
   "execution_count": 39,
   "metadata": {
    "id": "Yn1NWnSL7A4-",
    "outputId": "2c317e9d-1694-4de4-bd45-fc23d25c7123"
   },
   "outputs": [
    {
     "name": "stdout",
     "output_type": "stream",
     "text": [
      "True True True\n"
     ]
    }
   ],
   "source": [
    "print(pd.isnull(np.nan), pd.isnull(None), pd.isnull(pd.NaT))"
   ]
  },
  {
   "cell_type": "code",
   "execution_count": 40,
   "metadata": {
    "id": "54CEWSXb7A4-",
    "outputId": "c10e0d21-368c-4cd9-b021-82d707301c31"
   },
   "outputs": [
    {
     "data": {
      "text/html": [
       "<div>\n",
       "<style scoped>\n",
       "    .dataframe tbody tr th:only-of-type {\n",
       "        vertical-align: middle;\n",
       "    }\n",
       "\n",
       "    .dataframe tbody tr th {\n",
       "        vertical-align: top;\n",
       "    }\n",
       "\n",
       "    .dataframe thead th {\n",
       "        text-align: right;\n",
       "    }\n",
       "</style>\n",
       "<table border=\"1\" class=\"dataframe\">\n",
       "  <thead>\n",
       "    <tr style=\"text-align: right;\">\n",
       "      <th></th>\n",
       "      <th>City_name</th>\n",
       "      <th>Population</th>\n",
       "      <th>Area square miles</th>\n",
       "      <th>Population density</th>\n",
       "      <th>year</th>\n",
       "    </tr>\n",
       "  </thead>\n",
       "  <tbody>\n",
       "    <tr>\n",
       "      <th>0</th>\n",
       "      <td>Paris</td>\n",
       "      <td>852469</td>\n",
       "      <td>46.87</td>\n",
       "      <td>18187.945381</td>\n",
       "      <td>2000.0</td>\n",
       "    </tr>\n",
       "    <tr>\n",
       "      <th>1</th>\n",
       "      <td>Lille</td>\n",
       "      <td>1015785</td>\n",
       "      <td>176.53</td>\n",
       "      <td>5754.177760</td>\n",
       "      <td>2000.0</td>\n",
       "    </tr>\n",
       "  </tbody>\n",
       "</table>\n",
       "</div>"
      ],
      "text/plain": [
       "  City_name  Population  Area square miles  Population density    year\n",
       "0     Paris      852469              46.87        18187.945381  2000.0\n",
       "1     Lille     1015785             176.53         5754.177760  2000.0"
      ]
     },
     "execution_count": 40,
     "metadata": {},
     "output_type": "execute_result"
    }
   ],
   "source": [
    "cities.dropna(how=\"any\")"
   ]
  },
  {
   "cell_type": "code",
   "execution_count": 41,
   "metadata": {
    "id": "5lHOyCuy7A4-",
    "outputId": "f72dca1d-94f6-4553-a7be-7c4f2d9d3580"
   },
   "outputs": [
    {
     "data": {
      "text/html": [
       "<div>\n",
       "<style scoped>\n",
       "    .dataframe tbody tr th:only-of-type {\n",
       "        vertical-align: middle;\n",
       "    }\n",
       "\n",
       "    .dataframe tbody tr th {\n",
       "        vertical-align: top;\n",
       "    }\n",
       "\n",
       "    .dataframe thead th {\n",
       "        text-align: right;\n",
       "    }\n",
       "</style>\n",
       "<table border=\"1\" class=\"dataframe\">\n",
       "  <thead>\n",
       "    <tr style=\"text-align: right;\">\n",
       "      <th></th>\n",
       "      <th>City_name</th>\n",
       "      <th>Population</th>\n",
       "      <th>Area square miles</th>\n",
       "      <th>Population density</th>\n",
       "      <th>year</th>\n",
       "    </tr>\n",
       "  </thead>\n",
       "  <tbody>\n",
       "    <tr>\n",
       "      <th>0</th>\n",
       "      <td>False</td>\n",
       "      <td>False</td>\n",
       "      <td>False</td>\n",
       "      <td>False</td>\n",
       "      <td>False</td>\n",
       "    </tr>\n",
       "    <tr>\n",
       "      <th>1</th>\n",
       "      <td>False</td>\n",
       "      <td>False</td>\n",
       "      <td>False</td>\n",
       "      <td>False</td>\n",
       "      <td>False</td>\n",
       "    </tr>\n",
       "    <tr>\n",
       "      <th>2</th>\n",
       "      <td>False</td>\n",
       "      <td>False</td>\n",
       "      <td>False</td>\n",
       "      <td>False</td>\n",
       "      <td>True</td>\n",
       "    </tr>\n",
       "  </tbody>\n",
       "</table>\n",
       "</div>"
      ],
      "text/plain": [
       "   City_name  Population  Area square miles  Population density   year\n",
       "0      False       False              False               False  False\n",
       "1      False       False              False               False  False\n",
       "2      False       False              False               False   True"
      ]
     },
     "execution_count": 41,
     "metadata": {},
     "output_type": "execute_result"
    }
   ],
   "source": [
    "pd.isna(cities)"
   ]
  },
  {
   "cell_type": "code",
   "execution_count": 42,
   "metadata": {
    "id": "gVmTZcEa7A4-",
    "outputId": "310b8c91-c929-45e2-975a-b0e32383b04c"
   },
   "outputs": [
    {
     "data": {
      "text/html": [
       "<div>\n",
       "<style scoped>\n",
       "    .dataframe tbody tr th:only-of-type {\n",
       "        vertical-align: middle;\n",
       "    }\n",
       "\n",
       "    .dataframe tbody tr th {\n",
       "        vertical-align: top;\n",
       "    }\n",
       "\n",
       "    .dataframe thead th {\n",
       "        text-align: right;\n",
       "    }\n",
       "</style>\n",
       "<table border=\"1\" class=\"dataframe\">\n",
       "  <thead>\n",
       "    <tr style=\"text-align: right;\">\n",
       "      <th></th>\n",
       "      <th>City_name</th>\n",
       "      <th>Population</th>\n",
       "      <th>Area square miles</th>\n",
       "      <th>Population density</th>\n",
       "      <th>year</th>\n",
       "    </tr>\n",
       "  </thead>\n",
       "  <tbody>\n",
       "    <tr>\n",
       "      <th>0</th>\n",
       "      <td>False</td>\n",
       "      <td>False</td>\n",
       "      <td>False</td>\n",
       "      <td>False</td>\n",
       "      <td>False</td>\n",
       "    </tr>\n",
       "    <tr>\n",
       "      <th>1</th>\n",
       "      <td>False</td>\n",
       "      <td>False</td>\n",
       "      <td>False</td>\n",
       "      <td>False</td>\n",
       "      <td>False</td>\n",
       "    </tr>\n",
       "    <tr>\n",
       "      <th>2</th>\n",
       "      <td>False</td>\n",
       "      <td>False</td>\n",
       "      <td>False</td>\n",
       "      <td>False</td>\n",
       "      <td>True</td>\n",
       "    </tr>\n",
       "  </tbody>\n",
       "</table>\n",
       "</div>"
      ],
      "text/plain": [
       "   City_name  Population  Area square miles  Population density   year\n",
       "0      False       False              False               False  False\n",
       "1      False       False              False               False  False\n",
       "2      False       False              False               False   True"
      ]
     },
     "execution_count": 42,
     "metadata": {},
     "output_type": "execute_result"
    }
   ],
   "source": [
    "cities.isnull()"
   ]
  },
  {
   "cell_type": "code",
   "execution_count": 43,
   "metadata": {
    "id": "CVS5Dv4e7A4-",
    "outputId": "1c680798-3cda-48c8-ff56-f3dc0b2d3858"
   },
   "outputs": [
    {
     "data": {
      "text/plain": [
       "City_name             0\n",
       "Population            0\n",
       "Area square miles     0\n",
       "Population density    0\n",
       "year                  1\n",
       "dtype: int64"
      ]
     },
     "execution_count": 43,
     "metadata": {},
     "output_type": "execute_result"
    }
   ],
   "source": [
    "# Détection de valeurs manquantes\n",
    "cities.isnull().sum()"
   ]
  },
  {
   "cell_type": "code",
   "execution_count": 44,
   "metadata": {
    "id": "URlZcyTU7A4_",
    "outputId": "778059ff-6ffc-4421-d952-b8aed619f2b3"
   },
   "outputs": [
    {
     "data": {
      "text/html": [
       "<div>\n",
       "<style scoped>\n",
       "    .dataframe tbody tr th:only-of-type {\n",
       "        vertical-align: middle;\n",
       "    }\n",
       "\n",
       "    .dataframe tbody tr th {\n",
       "        vertical-align: top;\n",
       "    }\n",
       "\n",
       "    .dataframe thead th {\n",
       "        text-align: right;\n",
       "    }\n",
       "</style>\n",
       "<table border=\"1\" class=\"dataframe\">\n",
       "  <thead>\n",
       "    <tr style=\"text-align: right;\">\n",
       "      <th></th>\n",
       "      <th>City_name</th>\n",
       "      <th>Population</th>\n",
       "      <th>Area square miles</th>\n",
       "      <th>Population density</th>\n",
       "      <th>year</th>\n",
       "    </tr>\n",
       "  </thead>\n",
       "  <tbody>\n",
       "    <tr>\n",
       "      <th>0</th>\n",
       "      <td>Paris</td>\n",
       "      <td>852469</td>\n",
       "      <td>46.87</td>\n",
       "      <td>18187.945381</td>\n",
       "      <td>2000.0</td>\n",
       "    </tr>\n",
       "    <tr>\n",
       "      <th>1</th>\n",
       "      <td>Lille</td>\n",
       "      <td>1015785</td>\n",
       "      <td>176.53</td>\n",
       "      <td>5754.177760</td>\n",
       "      <td>2000.0</td>\n",
       "    </tr>\n",
       "    <tr>\n",
       "      <th>2</th>\n",
       "      <td>Toulouse</td>\n",
       "      <td>485199</td>\n",
       "      <td>97.92</td>\n",
       "      <td>4955.055147</td>\n",
       "      <td>2001.0</td>\n",
       "    </tr>\n",
       "  </tbody>\n",
       "</table>\n",
       "</div>"
      ],
      "text/plain": [
       "  City_name  Population  Area square miles  Population density    year\n",
       "0     Paris      852469              46.87        18187.945381  2000.0\n",
       "1     Lille     1015785             176.53         5754.177760  2000.0\n",
       "2  Toulouse      485199              97.92         4955.055147  2001.0"
      ]
     },
     "execution_count": 44,
     "metadata": {},
     "output_type": "execute_result"
    }
   ],
   "source": [
    "cities= cities.fillna(value=2001)\n",
    "cities"
   ]
  },
  {
   "cell_type": "markdown",
   "metadata": {
    "id": "hp2oWY9Slo_h"
   },
   "source": [
    " Appelez `DataFrame.reindex` pour réorganiser manuellement les lignes. Le code suivant, par exemple, revient à trier les données par nom de ville :"
   ]
  },
  {
   "cell_type": "code",
   "execution_count": 45,
   "metadata": {
    "id": "sN0zUzSAj-U1",
    "outputId": "a688b3d6-1ee7-4e60-9c9e-d005f65f632b"
   },
   "outputs": [
    {
     "data": {
      "text/html": [
       "<div>\n",
       "<style scoped>\n",
       "    .dataframe tbody tr th:only-of-type {\n",
       "        vertical-align: middle;\n",
       "    }\n",
       "\n",
       "    .dataframe tbody tr th {\n",
       "        vertical-align: top;\n",
       "    }\n",
       "\n",
       "    .dataframe thead th {\n",
       "        text-align: right;\n",
       "    }\n",
       "</style>\n",
       "<table border=\"1\" class=\"dataframe\">\n",
       "  <thead>\n",
       "    <tr style=\"text-align: right;\">\n",
       "      <th></th>\n",
       "      <th>City_name</th>\n",
       "      <th>Population</th>\n",
       "      <th>Area square miles</th>\n",
       "      <th>Population density</th>\n",
       "      <th>year</th>\n",
       "    </tr>\n",
       "  </thead>\n",
       "  <tbody>\n",
       "    <tr>\n",
       "      <th>2</th>\n",
       "      <td>Toulouse</td>\n",
       "      <td>485199</td>\n",
       "      <td>97.92</td>\n",
       "      <td>4955.055147</td>\n",
       "      <td>2001.0</td>\n",
       "    </tr>\n",
       "    <tr>\n",
       "      <th>0</th>\n",
       "      <td>Paris</td>\n",
       "      <td>852469</td>\n",
       "      <td>46.87</td>\n",
       "      <td>18187.945381</td>\n",
       "      <td>2000.0</td>\n",
       "    </tr>\n",
       "    <tr>\n",
       "      <th>1</th>\n",
       "      <td>Lille</td>\n",
       "      <td>1015785</td>\n",
       "      <td>176.53</td>\n",
       "      <td>5754.177760</td>\n",
       "      <td>2000.0</td>\n",
       "    </tr>\n",
       "  </tbody>\n",
       "</table>\n",
       "</div>"
      ],
      "text/plain": [
       "  City_name  Population  Area square miles  Population density    year\n",
       "2  Toulouse      485199              97.92         4955.055147  2001.0\n",
       "0     Paris      852469              46.87        18187.945381  2000.0\n",
       "1     Lille     1015785             176.53         5754.177760  2000.0"
      ]
     },
     "execution_count": 45,
     "metadata": {},
     "output_type": "execute_result"
    }
   ],
   "source": [
    "cities.reindex([2, 0, 1])"
   ]
  },
  {
   "cell_type": "markdown",
   "metadata": {
    "id": "-GQFz8NZuS06"
   },
   "source": [
    " La réindexation est un excellent moyen de mélanger (organiser aléatoirement) les données d'un `DataFrame`. Dans l'exemple ci-dessous, l'index de type tableau est transmis à la fonction NumPy `random.permutation`, qui mélange les valeurs. En appelant `reindex` avec ce tableau mélangé, nous mélangeons également les lignes du `DataFrame`.\n",
    "Exécutez plusieurs fois la cellule suivante !"
   ]
  },
  {
   "cell_type": "markdown",
   "metadata": {
    "id": "8UngIdVhz8C0"
   },
   "source": [
    "* Attention\n",
    "\n",
    "La méthode `reindex` autorise les valeurs d'index autres que celles associées au `DataFrame` d'origine. Pourquoi est-ce autorisé à votre avis ?"
   ]
  },
  {
   "cell_type": "markdown",
   "metadata": {
    "id": "8oSvi2QWwuDH"
   },
   "source": [
    " => Lorsque le tableau d'entrée `reindex` contient des valeurs d'index ne faisant pas partie de la liste des index du `DataFrame` d'origine, `reindex` ajoute des lignes pour ces index \\'manquants\\' et insère la valeur `NaN` dans les colonnes correspondantes :"
   ]
  },
  {
   "cell_type": "code",
   "execution_count": 46,
   "metadata": {
    "id": "yBdkucKCwy4x",
    "outputId": "569d564b-3f39-4e4e-aa5e-84e83804e638"
   },
   "outputs": [
    {
     "data": {
      "text/html": [
       "<div>\n",
       "<style scoped>\n",
       "    .dataframe tbody tr th:only-of-type {\n",
       "        vertical-align: middle;\n",
       "    }\n",
       "\n",
       "    .dataframe tbody tr th {\n",
       "        vertical-align: top;\n",
       "    }\n",
       "\n",
       "    .dataframe thead th {\n",
       "        text-align: right;\n",
       "    }\n",
       "</style>\n",
       "<table border=\"1\" class=\"dataframe\">\n",
       "  <thead>\n",
       "    <tr style=\"text-align: right;\">\n",
       "      <th></th>\n",
       "      <th>City_name</th>\n",
       "      <th>Population</th>\n",
       "      <th>Area square miles</th>\n",
       "      <th>Population density</th>\n",
       "      <th>year</th>\n",
       "    </tr>\n",
       "  </thead>\n",
       "  <tbody>\n",
       "    <tr>\n",
       "      <th>0</th>\n",
       "      <td>Paris</td>\n",
       "      <td>852469.0</td>\n",
       "      <td>46.87</td>\n",
       "      <td>18187.945381</td>\n",
       "      <td>2000.0</td>\n",
       "    </tr>\n",
       "    <tr>\n",
       "      <th>4</th>\n",
       "      <td>NaN</td>\n",
       "      <td>NaN</td>\n",
       "      <td>NaN</td>\n",
       "      <td>NaN</td>\n",
       "      <td>NaN</td>\n",
       "    </tr>\n",
       "    <tr>\n",
       "      <th>5</th>\n",
       "      <td>NaN</td>\n",
       "      <td>NaN</td>\n",
       "      <td>NaN</td>\n",
       "      <td>NaN</td>\n",
       "      <td>NaN</td>\n",
       "    </tr>\n",
       "    <tr>\n",
       "      <th>2</th>\n",
       "      <td>Toulouse</td>\n",
       "      <td>485199.0</td>\n",
       "      <td>97.92</td>\n",
       "      <td>4955.055147</td>\n",
       "      <td>2001.0</td>\n",
       "    </tr>\n",
       "  </tbody>\n",
       "</table>\n",
       "</div>"
      ],
      "text/plain": [
       "  City_name  Population  Area square miles  Population density    year\n",
       "0     Paris    852469.0              46.87        18187.945381  2000.0\n",
       "4       NaN         NaN                NaN                 NaN     NaN\n",
       "5       NaN         NaN                NaN                 NaN     NaN\n",
       "2  Toulouse    485199.0              97.92         4955.055147  2001.0"
      ]
     },
     "execution_count": 46,
     "metadata": {},
     "output_type": "execute_result"
    }
   ],
   "source": [
    "cities.reindex([0, 4, 5, 2])"
   ]
  },
  {
   "cell_type": "markdown",
   "metadata": {
    "id": "2l82PhPbwz7g"
   },
   "source": [
    " Ce comportement est souhaitable, car les index sont souvent des chaînes de caractères extraites des données réelles. La [documentation *Pandas* sur la fonction `reindex`](http://pandas.pydata.org/pandas-docs/stable/generated/pandas.DataFrame.reindex.html) inclut un exemple avec des noms de navigateurs comme valeurs d'index).\n",
    "\n",
    "Dans ce cas, autoriser les index \\'manquants\\' facilite la réindexation à l'aide d'une liste externe, car vous n'avez pas à vous préoccuper de l'intégrité des données d'entrée."
   ]
  },
  {
   "cell_type": "code",
   "execution_count": 63,
   "metadata": {
    "id": "mF8GC0k8uYhz",
    "outputId": "85aad53c-36a6-46c2-c5c9-91b2e04cb45f"
   },
   "outputs": [
    {
     "data": {
      "text/html": [
       "<div>\n",
       "<style scoped>\n",
       "    .dataframe tbody tr th:only-of-type {\n",
       "        vertical-align: middle;\n",
       "    }\n",
       "\n",
       "    .dataframe tbody tr th {\n",
       "        vertical-align: top;\n",
       "    }\n",
       "\n",
       "    .dataframe thead th {\n",
       "        text-align: right;\n",
       "    }\n",
       "</style>\n",
       "<table border=\"1\" class=\"dataframe\">\n",
       "  <thead>\n",
       "    <tr style=\"text-align: right;\">\n",
       "      <th></th>\n",
       "      <th>City_name</th>\n",
       "      <th>Population</th>\n",
       "      <th>Area square miles</th>\n",
       "      <th>Population density</th>\n",
       "      <th>year</th>\n",
       "      <th>selected</th>\n",
       "    </tr>\n",
       "  </thead>\n",
       "  <tbody>\n",
       "    <tr>\n",
       "      <th>0</th>\n",
       "      <td>Paris</td>\n",
       "      <td>852469</td>\n",
       "      <td>46.87</td>\n",
       "      <td>18187.945381</td>\n",
       "      <td>2000.0</td>\n",
       "      <td>False</td>\n",
       "    </tr>\n",
       "    <tr>\n",
       "      <th>2</th>\n",
       "      <td>Toulouse</td>\n",
       "      <td>485199</td>\n",
       "      <td>97.92</td>\n",
       "      <td>4955.055147</td>\n",
       "      <td>2001.0</td>\n",
       "      <td>False</td>\n",
       "    </tr>\n",
       "    <tr>\n",
       "      <th>1</th>\n",
       "      <td>Lille</td>\n",
       "      <td>1015785</td>\n",
       "      <td>176.53</td>\n",
       "      <td>5754.177760</td>\n",
       "      <td>2000.0</td>\n",
       "      <td>True</td>\n",
       "    </tr>\n",
       "  </tbody>\n",
       "</table>\n",
       "</div>"
      ],
      "text/plain": [
       "  City_name  Population  Area square miles  Population density    year  \\\n",
       "0     Paris      852469              46.87        18187.945381  2000.0   \n",
       "2  Toulouse      485199              97.92         4955.055147  2001.0   \n",
       "1     Lille     1015785             176.53         5754.177760  2000.0   \n",
       "\n",
       "   selected  \n",
       "0     False  \n",
       "2     False  \n",
       "1      True  "
      ]
     },
     "execution_count": 63,
     "metadata": {},
     "output_type": "execute_result"
    }
   ],
   "source": [
    "cities.reindex(np.random.permutation(cities.index))"
   ]
  },
  {
   "cell_type": "markdown",
   "metadata": {
    "id": "fSso35fQmGKb"
   },
   "source": [
    " Pour en savoir plus, consultez la [documentation relative aux index](http://pandas.pydata.org/pandas-docs/stable/indexing.html#index-objects)."
   ]
  },
  {
   "cell_type": "markdown",
   "metadata": {
    "id": "6qh63m-ayb-c"
   },
   "source": [
    " ## Exercice n° 1\n",
    "\n",
    "Modifiez le tableau `cities` en ajoutant une colonne booléenne qui prend la valeur True si et seulement si les *deux* conditions suivantes sont remplies :\n",
    "\n",
    "  * Le nom de la ville commence par L .\n",
    "  * La ville s'étend sur plus de 50 miles carrés.\n",
    "\n",
    "**Remarque** : Pour combiner des `Series` booléennes, utilisez des opérateurs de bits, pas les opérateurs booléens classiques. Par exemple, pour le *ET logique*, utilisez `&` au lieu de `and`.\n",
    "\n"
   ]
  },
  {
   "cell_type": "code",
   "execution_count": 68,
   "metadata": {},
   "outputs": [],
   "source": [
    "cities['selected'] = (cities['Area square miles'] > 50) & cities['City_name'].apply(lambda name: name.startswith('L'))"
   ]
  },
  {
   "cell_type": "code",
   "execution_count": null,
   "metadata": {},
   "outputs": [],
   "source": []
  },
  {
   "cell_type": "markdown",
   "metadata": {
    "id": "YHIWvc9Ms-Ll"
   },
   "source": [
    " ### Solution\n",
    "\n",
    "Cliquez ci-dessous pour afficher la solution."
   ]
  },
  {
   "cell_type": "code",
   "execution_count": 65,
   "metadata": {
    "id": "T5OlrqtdtCIb",
    "outputId": "32fed235-63b2-40ee-b3cb-96c609f74957"
   },
   "outputs": [
    {
     "data": {
      "text/html": [
       "<div>\n",
       "<style scoped>\n",
       "    .dataframe tbody tr th:only-of-type {\n",
       "        vertical-align: middle;\n",
       "    }\n",
       "\n",
       "    .dataframe tbody tr th {\n",
       "        vertical-align: top;\n",
       "    }\n",
       "\n",
       "    .dataframe thead th {\n",
       "        text-align: right;\n",
       "    }\n",
       "</style>\n",
       "<table border=\"1\" class=\"dataframe\">\n",
       "  <thead>\n",
       "    <tr style=\"text-align: right;\">\n",
       "      <th></th>\n",
       "      <th>City_name</th>\n",
       "      <th>Population</th>\n",
       "      <th>Area square miles</th>\n",
       "      <th>Population density</th>\n",
       "      <th>year</th>\n",
       "      <th>selected</th>\n",
       "    </tr>\n",
       "  </thead>\n",
       "  <tbody>\n",
       "    <tr>\n",
       "      <th>0</th>\n",
       "      <td>Paris</td>\n",
       "      <td>852469</td>\n",
       "      <td>46.87</td>\n",
       "      <td>18187.945381</td>\n",
       "      <td>2000.0</td>\n",
       "      <td>False</td>\n",
       "    </tr>\n",
       "    <tr>\n",
       "      <th>1</th>\n",
       "      <td>Lille</td>\n",
       "      <td>1015785</td>\n",
       "      <td>176.53</td>\n",
       "      <td>5754.177760</td>\n",
       "      <td>2000.0</td>\n",
       "      <td>True</td>\n",
       "    </tr>\n",
       "    <tr>\n",
       "      <th>2</th>\n",
       "      <td>Toulouse</td>\n",
       "      <td>485199</td>\n",
       "      <td>97.92</td>\n",
       "      <td>4955.055147</td>\n",
       "      <td>2001.0</td>\n",
       "      <td>False</td>\n",
       "    </tr>\n",
       "  </tbody>\n",
       "</table>\n",
       "</div>"
      ],
      "text/plain": [
       "  City_name  Population  Area square miles  Population density    year  \\\n",
       "0     Paris      852469              46.87        18187.945381  2000.0   \n",
       "1     Lille     1015785             176.53         5754.177760  2000.0   \n",
       "2  Toulouse      485199              97.92         4955.055147  2001.0   \n",
       "\n",
       "   selected  \n",
       "0     False  \n",
       "1      True  \n",
       "2     False  "
      ]
     },
     "execution_count": 65,
     "metadata": {},
     "output_type": "execute_result"
    }
   ],
   "source": [
    "cities['selected'] = (cities['Area square miles'] > 50) & cities['City_name'].apply(lambda name: name.startswith('L'))\n",
    "cities"
   ]
  },
  {
   "cell_type": "markdown",
   "metadata": {
    "id": "f-xAOJeMiXFB"
   },
   "source": [
    " ## Resources utiles à valider!\n",
    " \n",
    " https://pandas.pydata.org/pandas-docs/stable/user_guide/10min.html\n",
    " \n",
    " https://pandas.pydata.org/pandas-docs/stable/user_guide/basics.html\n",
    " \n",
    " https://pandas.pydata.org/pandas-docs/stable/user_guide/indexing.html\n",
    " \n",
    " https://pandas.pydata.org/pandas-docs/stable/user_guide/advanced.html\n",
    " \n",
    " https://pandas.pydata.org/pandas-docs/stable/user_guide/visualization.html\n",
    " "
   ]
  },
  {
   "cell_type": "code",
   "execution_count": null,
   "metadata": {
    "id": "t4CSfeA57A5E"
   },
   "outputs": [],
   "source": []
  }
 ],
 "metadata": {
  "celltoolbar": "Diaporama",
  "colab": {
   "collapsed_sections": [
    "JndnmDMp66FL",
    "YHIWvc9Ms-Ll",
    "TJffr5_Jwqvd"
   ],
   "name": "intro_to_pandas_1.ipynb",
   "provenance": []
  },
  "kernelspec": {
   "display_name": "Python 3 (ipykernel)",
   "language": "python",
   "name": "python3"
  },
  "language_info": {
   "codemirror_mode": {
    "name": "ipython",
    "version": 3
   },
   "file_extension": ".py",
   "mimetype": "text/x-python",
   "name": "python",
   "nbconvert_exporter": "python",
   "pygments_lexer": "ipython3",
   "version": "3.9.7"
  },
  "toc": {
   "base_numbering": 1,
   "nav_menu": {},
   "number_sections": true,
   "sideBar": false,
   "skip_h1_title": false,
   "title_cell": "Table of Contents",
   "title_sidebar": "Contents",
   "toc_cell": false,
   "toc_position": {
    "height": "514.427px",
    "left": "10px",
    "top": "150px",
    "width": "165px"
   },
   "toc_section_display": true,
   "toc_window_display": true
  }
 },
 "nbformat": 4,
 "nbformat_minor": 1
}
